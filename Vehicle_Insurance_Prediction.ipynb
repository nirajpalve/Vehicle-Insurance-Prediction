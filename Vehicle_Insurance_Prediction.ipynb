{
  "cells": [
    {
      "cell_type": "markdown",
      "metadata": {
        "id": "view-in-github",
        "colab_type": "text"
      },
      "source": [
        "<a href=\"https://colab.research.google.com/github/nirajpalve/Vehicle-Insurance-Prediction/blob/main/Vehicle_Insurance_Prediction.ipynb\" target=\"_parent\"><img src=\"https://colab.research.google.com/assets/colab-badge.svg\" alt=\"Open In Colab\"/></a>"
      ]
    },
    {
      "cell_type": "markdown",
      "metadata": {
        "id": "tuFHR6bkYvwm"
      },
      "source": [
        "# <center><font color = 'darkgreen'><b> VEHICLE INSURANCE</b></font></center>"
      ]
    },
    {
      "cell_type": "markdown",
      "metadata": {
        "id": "zKtsLqYoZhLt"
      },
      "source": [
        "![](https://github.com/nirajpalve/Vehicle-Insurance-Prediction/raw/main/download.png)"
      ]
    },
    {
      "cell_type": "markdown",
      "source": [
        "# # <font color = ''><b> Table of Contents :-</font>-\n",
        "- `Problem Statement`\n",
        "- `Business Goal`\n",
        "- `1 | Importing Libraries & Loading Dataset`\n",
        "- `2 | Exploratory Data Analysis(EDA)`\n",
        " - `| About The Dataset`\n",
        " - `| Data Visualization`\n",
        " - `| Numerical Data`\n",
        "   - `1.1| Age`\n",
        "   - `1.2| Annual Premium`\n",
        "   - `1.3| Policy Sales Channel`\n",
        "   - `1.4| Vintage`\n",
        "   - `1.5| Region_Code`\n",
        " - `| Categorical Data`\n",
        "   - `2.1| Gender`\n",
        "   - `2.2| Vehicle Age`\n",
        "   - `2.3| Driving_License`\n",
        "   - `2.4| Previously_Insured`\n",
        "   - `2.4| Vehicle_Damage`\n",
        "   - `2.5| Response`\n",
        " - `| Data Cleaning`\n",
        " - `| Convert Non-numerical Data into Numerical`\n",
        " - `| Splitting data into train & test set`\n",
        "- `3 | Simple Model Building`\n",
        "  - `3.1 | Logistic Regression`\n",
        "  - `3.2 | Decision Tree`\n",
        "- `4| Feature Engineering`\n",
        "  - `4.1 | One Hot Encoding`\n",
        "  - `4.2 | Over Sampling`\n",
        "  - `4.3 | Correlation Matrix`\n",
        "  - `4.4 | Splitting data into train & test set(balanced dataset)`\n",
        "- `5 |Model Building(Up-dated)`\n",
        "  - `5.1 | Logistic Regression`\n",
        "  - `5.2 | Decision Tree`\n",
        "  - `5.3 | Random Forest`\n",
        "  - `5.4 | Gradient Boosting Classifier`\n",
        "  - `5.5 | XGB`\n",
        "- `6 | All Model wise Accuracy`"
      ],
      "metadata": {
        "id": "kBQjm7cX3HG5"
      }
    },
    {
      "cell_type": "markdown",
      "source": [
        "# <font color = ''><b> Problem Statement :-</font>\n",
        "- `Our client is an Insurance company that has provided Health Insurance to its customers now they need your help in building a model to predict whether the policyholders (customers) from past year will also be interested in Vehicle Insurance provided by the company.`\n",
        "\n",
        "- `An insurance policy is an arrangement by which a company undertakes to provide a guarantee of compensation for specified loss, damage, illness, or death in return for the payment of a specified premium. A premium is a sum of money that the customer needs to pay regularly to an insurance company for this guarantee.`\n",
        "\n",
        "- `Just like medical insurance, there is vehicle insurance where every year customer needs to pay a premium of certain amount to insurance provider company so that in case of unfortunate accident by the vehicle, the insurance provider company will provide a compensation to the customer.`\n"
      ],
      "metadata": {
        "id": "9zp5xSIq2YZK"
      }
    },
    {
      "cell_type": "code",
      "source": [],
      "metadata": {
        "id": "_IAyiNJT6V3r"
      },
      "execution_count": null,
      "outputs": []
    },
    {
      "cell_type": "markdown",
      "source": [
        "# <font color = ''><b> Business Goal </font> :-\n",
        "- `Building a model to predict whether a customer would be interested in Vehicle Insurance is extremely helpful for the company because it can then accordingly plan its communication strategy to reach out to those customers and optimise its business model and revenue.`"
      ],
      "metadata": {
        "id": "fEEZA9vn6Ol-"
      }
    },
    {
      "cell_type": "markdown",
      "metadata": {
        "id": "TEvfYXs3Vaqz"
      },
      "source": [
        "## <font color = ''><b>1 <span style='color:#0386f7de'>|</span> Importing Libraries & Loading Dataset</b></font>"
      ]
    },
    {
      "cell_type": "code",
      "execution_count": 1,
      "metadata": {
        "id": "MRm14MsDbSOg"
      },
      "outputs": [],
      "source": [
        "import numpy as np      \n",
        "import pandas as pd                  ## Importing Libraries\n",
        "import seaborn as sns\n",
        "import matplotlib.pyplot as plt \n",
        "import time\n",
        "from sklearn.preprocessing import StandardScaler\n",
        "from sklearn.model_selection import train_test_split \n",
        "import statsmodels.formula.api as smf\n",
        "from sklearn import linear_model\n",
        "from sklearn.linear_model import LogisticRegression\n",
        "from sklearn.tree import DecisionTreeClassifier,plot_tree\n",
        "from sklearn.ensemble import RandomForestClassifier,AdaBoostClassifier,GradientBoostingClassifier\n",
        "from xgboost import XGBClassifier\n",
        "from sklearn.metrics import accuracy_score,recall_score,precision_score,confusion_matrix,classification_report,roc_auc_score,roc_curve\n",
        "import warnings \n",
        "warnings.filterwarnings('ignore')"
      ]
    },
    {
      "cell_type": "code",
      "execution_count": 2,
      "metadata": {
        "id": "jCoQsXCLYc0q"
      },
      "outputs": [],
      "source": [
        "url = 'https://raw.githubusercontent.com/nirajpalve/Vehicle-Insurance-Prediction/main/Vechicle_Insurance.csv'"
      ]
    },
    {
      "cell_type": "code",
      "execution_count": 3,
      "metadata": {
        "colab": {
          "base_uri": "https://localhost:8080/",
          "height": 488
        },
        "id": "qPBs90GVbP3u",
        "outputId": "dc9108b2-18eb-4932-f911-76110371c1b2"
      },
      "outputs": [
        {
          "output_type": "execute_result",
          "data": {
            "text/plain": [
              "            id  Gender  Age  Driving_License  Region_Code  Previously_Insured  \\\n",
              "0            1    Male   44                1           28                   0   \n",
              "1            2    Male   76                1            3                   0   \n",
              "2            3    Male   47                1           28                   0   \n",
              "3            4    Male   21                1           11                   1   \n",
              "4            5  Female   29                1           41                   1   \n",
              "...        ...     ...  ...              ...          ...                 ...   \n",
              "199995  199996  Female   24                1            2                   0   \n",
              "199996  199997  Female   23                1           39                   0   \n",
              "199997  199998    Male   52                1           29                   0   \n",
              "199998  199999  Female   20                1           36                   1   \n",
              "199999  200000  Female   35                1           46                   1   \n",
              "\n",
              "       Vehicle_Age Vehicle_Damage  Annual_Premium  Policy_Sales_Channel  \\\n",
              "0        > 2 Years            Yes           40454                    26   \n",
              "1         1-2 Year             No           33536                    26   \n",
              "2        > 2 Years            Yes           38294                    26   \n",
              "3         < 1 Year             No           28619                   152   \n",
              "4         < 1 Year             No           27496                   152   \n",
              "...            ...            ...             ...                   ...   \n",
              "199995    < 1 Year            Yes           18654                   152   \n",
              "199996    < 1 Year            Yes           49472                    26   \n",
              "199997    1-2 Year            Yes           36164                    26   \n",
              "199998    < 1 Year             No           37336                   160   \n",
              "199999    1-2 Year             No            2630                   152   \n",
              "\n",
              "        Vintage  Response  \n",
              "0           217         1  \n",
              "1           183         0  \n",
              "2            27         1  \n",
              "3           203         0  \n",
              "4            39         0  \n",
              "...         ...       ...  \n",
              "199995       73         0  \n",
              "199996       40         0  \n",
              "199997      233         1  \n",
              "199998      180         0  \n",
              "199999       10         0  \n",
              "\n",
              "[200000 rows x 12 columns]"
            ],
            "text/html": [
              "\n",
              "  <div id=\"df-c86b428a-6245-45aa-88c4-fc35039895b9\">\n",
              "    <div class=\"colab-df-container\">\n",
              "      <div>\n",
              "<style scoped>\n",
              "    .dataframe tbody tr th:only-of-type {\n",
              "        vertical-align: middle;\n",
              "    }\n",
              "\n",
              "    .dataframe tbody tr th {\n",
              "        vertical-align: top;\n",
              "    }\n",
              "\n",
              "    .dataframe thead th {\n",
              "        text-align: right;\n",
              "    }\n",
              "</style>\n",
              "<table border=\"1\" class=\"dataframe\">\n",
              "  <thead>\n",
              "    <tr style=\"text-align: right;\">\n",
              "      <th></th>\n",
              "      <th>id</th>\n",
              "      <th>Gender</th>\n",
              "      <th>Age</th>\n",
              "      <th>Driving_License</th>\n",
              "      <th>Region_Code</th>\n",
              "      <th>Previously_Insured</th>\n",
              "      <th>Vehicle_Age</th>\n",
              "      <th>Vehicle_Damage</th>\n",
              "      <th>Annual_Premium</th>\n",
              "      <th>Policy_Sales_Channel</th>\n",
              "      <th>Vintage</th>\n",
              "      <th>Response</th>\n",
              "    </tr>\n",
              "  </thead>\n",
              "  <tbody>\n",
              "    <tr>\n",
              "      <th>0</th>\n",
              "      <td>1</td>\n",
              "      <td>Male</td>\n",
              "      <td>44</td>\n",
              "      <td>1</td>\n",
              "      <td>28</td>\n",
              "      <td>0</td>\n",
              "      <td>&gt; 2 Years</td>\n",
              "      <td>Yes</td>\n",
              "      <td>40454</td>\n",
              "      <td>26</td>\n",
              "      <td>217</td>\n",
              "      <td>1</td>\n",
              "    </tr>\n",
              "    <tr>\n",
              "      <th>1</th>\n",
              "      <td>2</td>\n",
              "      <td>Male</td>\n",
              "      <td>76</td>\n",
              "      <td>1</td>\n",
              "      <td>3</td>\n",
              "      <td>0</td>\n",
              "      <td>1-2 Year</td>\n",
              "      <td>No</td>\n",
              "      <td>33536</td>\n",
              "      <td>26</td>\n",
              "      <td>183</td>\n",
              "      <td>0</td>\n",
              "    </tr>\n",
              "    <tr>\n",
              "      <th>2</th>\n",
              "      <td>3</td>\n",
              "      <td>Male</td>\n",
              "      <td>47</td>\n",
              "      <td>1</td>\n",
              "      <td>28</td>\n",
              "      <td>0</td>\n",
              "      <td>&gt; 2 Years</td>\n",
              "      <td>Yes</td>\n",
              "      <td>38294</td>\n",
              "      <td>26</td>\n",
              "      <td>27</td>\n",
              "      <td>1</td>\n",
              "    </tr>\n",
              "    <tr>\n",
              "      <th>3</th>\n",
              "      <td>4</td>\n",
              "      <td>Male</td>\n",
              "      <td>21</td>\n",
              "      <td>1</td>\n",
              "      <td>11</td>\n",
              "      <td>1</td>\n",
              "      <td>&lt; 1 Year</td>\n",
              "      <td>No</td>\n",
              "      <td>28619</td>\n",
              "      <td>152</td>\n",
              "      <td>203</td>\n",
              "      <td>0</td>\n",
              "    </tr>\n",
              "    <tr>\n",
              "      <th>4</th>\n",
              "      <td>5</td>\n",
              "      <td>Female</td>\n",
              "      <td>29</td>\n",
              "      <td>1</td>\n",
              "      <td>41</td>\n",
              "      <td>1</td>\n",
              "      <td>&lt; 1 Year</td>\n",
              "      <td>No</td>\n",
              "      <td>27496</td>\n",
              "      <td>152</td>\n",
              "      <td>39</td>\n",
              "      <td>0</td>\n",
              "    </tr>\n",
              "    <tr>\n",
              "      <th>...</th>\n",
              "      <td>...</td>\n",
              "      <td>...</td>\n",
              "      <td>...</td>\n",
              "      <td>...</td>\n",
              "      <td>...</td>\n",
              "      <td>...</td>\n",
              "      <td>...</td>\n",
              "      <td>...</td>\n",
              "      <td>...</td>\n",
              "      <td>...</td>\n",
              "      <td>...</td>\n",
              "      <td>...</td>\n",
              "    </tr>\n",
              "    <tr>\n",
              "      <th>199995</th>\n",
              "      <td>199996</td>\n",
              "      <td>Female</td>\n",
              "      <td>24</td>\n",
              "      <td>1</td>\n",
              "      <td>2</td>\n",
              "      <td>0</td>\n",
              "      <td>&lt; 1 Year</td>\n",
              "      <td>Yes</td>\n",
              "      <td>18654</td>\n",
              "      <td>152</td>\n",
              "      <td>73</td>\n",
              "      <td>0</td>\n",
              "    </tr>\n",
              "    <tr>\n",
              "      <th>199996</th>\n",
              "      <td>199997</td>\n",
              "      <td>Female</td>\n",
              "      <td>23</td>\n",
              "      <td>1</td>\n",
              "      <td>39</td>\n",
              "      <td>0</td>\n",
              "      <td>&lt; 1 Year</td>\n",
              "      <td>Yes</td>\n",
              "      <td>49472</td>\n",
              "      <td>26</td>\n",
              "      <td>40</td>\n",
              "      <td>0</td>\n",
              "    </tr>\n",
              "    <tr>\n",
              "      <th>199997</th>\n",
              "      <td>199998</td>\n",
              "      <td>Male</td>\n",
              "      <td>52</td>\n",
              "      <td>1</td>\n",
              "      <td>29</td>\n",
              "      <td>0</td>\n",
              "      <td>1-2 Year</td>\n",
              "      <td>Yes</td>\n",
              "      <td>36164</td>\n",
              "      <td>26</td>\n",
              "      <td>233</td>\n",
              "      <td>1</td>\n",
              "    </tr>\n",
              "    <tr>\n",
              "      <th>199998</th>\n",
              "      <td>199999</td>\n",
              "      <td>Female</td>\n",
              "      <td>20</td>\n",
              "      <td>1</td>\n",
              "      <td>36</td>\n",
              "      <td>1</td>\n",
              "      <td>&lt; 1 Year</td>\n",
              "      <td>No</td>\n",
              "      <td>37336</td>\n",
              "      <td>160</td>\n",
              "      <td>180</td>\n",
              "      <td>0</td>\n",
              "    </tr>\n",
              "    <tr>\n",
              "      <th>199999</th>\n",
              "      <td>200000</td>\n",
              "      <td>Female</td>\n",
              "      <td>35</td>\n",
              "      <td>1</td>\n",
              "      <td>46</td>\n",
              "      <td>1</td>\n",
              "      <td>1-2 Year</td>\n",
              "      <td>No</td>\n",
              "      <td>2630</td>\n",
              "      <td>152</td>\n",
              "      <td>10</td>\n",
              "      <td>0</td>\n",
              "    </tr>\n",
              "  </tbody>\n",
              "</table>\n",
              "<p>200000 rows × 12 columns</p>\n",
              "</div>\n",
              "      <button class=\"colab-df-convert\" onclick=\"convertToInteractive('df-c86b428a-6245-45aa-88c4-fc35039895b9')\"\n",
              "              title=\"Convert this dataframe to an interactive table.\"\n",
              "              style=\"display:none;\">\n",
              "        \n",
              "  <svg xmlns=\"http://www.w3.org/2000/svg\" height=\"24px\"viewBox=\"0 0 24 24\"\n",
              "       width=\"24px\">\n",
              "    <path d=\"M0 0h24v24H0V0z\" fill=\"none\"/>\n",
              "    <path d=\"M18.56 5.44l.94 2.06.94-2.06 2.06-.94-2.06-.94-.94-2.06-.94 2.06-2.06.94zm-11 1L8.5 8.5l.94-2.06 2.06-.94-2.06-.94L8.5 2.5l-.94 2.06-2.06.94zm10 10l.94 2.06.94-2.06 2.06-.94-2.06-.94-.94-2.06-.94 2.06-2.06.94z\"/><path d=\"M17.41 7.96l-1.37-1.37c-.4-.4-.92-.59-1.43-.59-.52 0-1.04.2-1.43.59L10.3 9.45l-7.72 7.72c-.78.78-.78 2.05 0 2.83L4 21.41c.39.39.9.59 1.41.59.51 0 1.02-.2 1.41-.59l7.78-7.78 2.81-2.81c.8-.78.8-2.07 0-2.86zM5.41 20L4 18.59l7.72-7.72 1.47 1.35L5.41 20z\"/>\n",
              "  </svg>\n",
              "      </button>\n",
              "      \n",
              "  <style>\n",
              "    .colab-df-container {\n",
              "      display:flex;\n",
              "      flex-wrap:wrap;\n",
              "      gap: 12px;\n",
              "    }\n",
              "\n",
              "    .colab-df-convert {\n",
              "      background-color: #E8F0FE;\n",
              "      border: none;\n",
              "      border-radius: 50%;\n",
              "      cursor: pointer;\n",
              "      display: none;\n",
              "      fill: #1967D2;\n",
              "      height: 32px;\n",
              "      padding: 0 0 0 0;\n",
              "      width: 32px;\n",
              "    }\n",
              "\n",
              "    .colab-df-convert:hover {\n",
              "      background-color: #E2EBFA;\n",
              "      box-shadow: 0px 1px 2px rgba(60, 64, 67, 0.3), 0px 1px 3px 1px rgba(60, 64, 67, 0.15);\n",
              "      fill: #174EA6;\n",
              "    }\n",
              "\n",
              "    [theme=dark] .colab-df-convert {\n",
              "      background-color: #3B4455;\n",
              "      fill: #D2E3FC;\n",
              "    }\n",
              "\n",
              "    [theme=dark] .colab-df-convert:hover {\n",
              "      background-color: #434B5C;\n",
              "      box-shadow: 0px 1px 3px 1px rgba(0, 0, 0, 0.15);\n",
              "      filter: drop-shadow(0px 1px 2px rgba(0, 0, 0, 0.3));\n",
              "      fill: #FFFFFF;\n",
              "    }\n",
              "  </style>\n",
              "\n",
              "      <script>\n",
              "        const buttonEl =\n",
              "          document.querySelector('#df-c86b428a-6245-45aa-88c4-fc35039895b9 button.colab-df-convert');\n",
              "        buttonEl.style.display =\n",
              "          google.colab.kernel.accessAllowed ? 'block' : 'none';\n",
              "\n",
              "        async function convertToInteractive(key) {\n",
              "          const element = document.querySelector('#df-c86b428a-6245-45aa-88c4-fc35039895b9');\n",
              "          const dataTable =\n",
              "            await google.colab.kernel.invokeFunction('convertToInteractive',\n",
              "                                                     [key], {});\n",
              "          if (!dataTable) return;\n",
              "\n",
              "          const docLinkHtml = 'Like what you see? Visit the ' +\n",
              "            '<a target=\"_blank\" href=https://colab.research.google.com/notebooks/data_table.ipynb>data table notebook</a>'\n",
              "            + ' to learn more about interactive tables.';\n",
              "          element.innerHTML = '';\n",
              "          dataTable['output_type'] = 'display_data';\n",
              "          await google.colab.output.renderOutput(dataTable, element);\n",
              "          const docLink = document.createElement('div');\n",
              "          docLink.innerHTML = docLinkHtml;\n",
              "          element.appendChild(docLink);\n",
              "        }\n",
              "      </script>\n",
              "    </div>\n",
              "  </div>\n",
              "  "
            ]
          },
          "metadata": {},
          "execution_count": 3
        }
      ],
      "source": [
        "data = pd.read_csv(url)    ## Loading Dataset\n",
        "data"
      ]
    },
    {
      "cell_type": "markdown",
      "metadata": {
        "id": "uUoW-V2UXxu2"
      },
      "source": [
        "## <font color = ''><b>2 <span style='color:#0386f7de'>|</span> Exploratory Data Analysis(EDA) <a id=\"prep\"></a></font>"
      ]
    },
    {
      "cell_type": "markdown",
      "metadata": {
        "id": "SIR_VCI9XTNR"
      },
      "source": [
        "### <font color = ''><span style='color:#0386f7de'>|</span> About The Dataset <a id=\"prep\"></a></font>"
      ]
    },
    {
      "cell_type": "markdown",
      "metadata": {
        "id": "SyItFSJG-eaL"
      },
      "source": [
        "-`Attribute Information`\n",
        "\n",
        "- `1) Id: Unique ID for the customer.`\n",
        "- `2) Gender: \"Male\", \"Female\".`\n",
        "- `3) Age: Age of the customer.`\n",
        "- `4) Driving_License 0 : Customer does not have DL, 1 : Customer already has DL.`\n",
        "- `5) Region_Code: Unique code for the region of the customer.`\n",
        "- `6) Previously_Insured 1 : Customer already has Vehicle Insurance, 0 : Customer doesn't have Vehicle Insurance.`\n",
        "- `7) Vehicle_Age: Age of the Vehicle.`\n",
        "- `8) Vehicle_Damage 1 : Customer got his/her vehicle damaged in the past. 0 : Customer didn't get his/her vehicle damaged in the past.`\n",
        "- `9) Annual_Premium: The amount customer needs to pay as premium in the year.`\n",
        "- `10) PolicySalesChannel: Anonymized Code for the channel of outreaching to the customer ie. Different Agents, Over Mail, Over Phone, In Person, etc.`\n",
        "- `11) Vintage: Number of Days, Customer has been associated with the company.`\n",
        "- `12) Response 1 : Customer is interested, 0 : Customer is not interested.`\n"
      ]
    },
    {
      "cell_type": "code",
      "execution_count": 4,
      "metadata": {
        "colab": {
          "base_uri": "https://localhost:8080/",
          "height": 0
        },
        "id": "HNSj6O4ub8Z3",
        "outputId": "b1232ee5-5063-4126-e203-2357729350e2"
      },
      "outputs": [
        {
          "output_type": "stream",
          "name": "stdout",
          "text": [
            "<class 'pandas.core.frame.DataFrame'>\n",
            "RangeIndex: 200000 entries, 0 to 199999\n",
            "Data columns (total 12 columns):\n",
            " #   Column                Non-Null Count   Dtype \n",
            "---  ------                --------------   ----- \n",
            " 0   id                    200000 non-null  int64 \n",
            " 1   Gender                200000 non-null  object\n",
            " 2   Age                   200000 non-null  int64 \n",
            " 3   Driving_License       200000 non-null  int64 \n",
            " 4   Region_Code           200000 non-null  int64 \n",
            " 5   Previously_Insured    200000 non-null  int64 \n",
            " 6   Vehicle_Age           200000 non-null  object\n",
            " 7   Vehicle_Damage        200000 non-null  object\n",
            " 8   Annual_Premium        200000 non-null  int64 \n",
            " 9   Policy_Sales_Channel  200000 non-null  int64 \n",
            " 10  Vintage               200000 non-null  int64 \n",
            " 11  Response              200000 non-null  int64 \n",
            "dtypes: int64(9), object(3)\n",
            "memory usage: 18.3+ MB\n"
          ]
        }
      ],
      "source": [
        "data.info()    ## To check wheather null value exist or not."
      ]
    },
    {
      "cell_type": "code",
      "execution_count": 5,
      "metadata": {
        "colab": {
          "base_uri": "https://localhost:8080/",
          "height": 0
        },
        "id": "39mhtFRJbYjT",
        "outputId": "7d2f4f50-8e2a-4f4a-a7ba-c515045ee9f9"
      },
      "outputs": [
        {
          "output_type": "execute_result",
          "data": {
            "text/plain": [
              "(200000, 12)"
            ]
          },
          "metadata": {},
          "execution_count": 5
        }
      ],
      "source": [
        "data.shape   ## To get the dimension of dataset (rows,columns)."
      ]
    },
    {
      "cell_type": "code",
      "execution_count": 6,
      "metadata": {
        "id": "rgMA-7oXYQAp"
      },
      "outputs": [],
      "source": [
        "data.drop('id', axis = 1, inplace = True)  ## Removing 'id' column from the data."
      ]
    },
    {
      "cell_type": "code",
      "execution_count": 7,
      "metadata": {
        "colab": {
          "base_uri": "https://localhost:8080/",
          "height": 300
        },
        "id": "Lo1dQxerb5rq",
        "outputId": "3a83e688-c609-401a-cfce-c641be4253e4"
      },
      "outputs": [
        {
          "output_type": "execute_result",
          "data": {
            "text/plain": [
              "                 Age  Driving_License    Region_Code  Previously_Insured  \\\n",
              "count  200000.000000    200000.000000  200000.000000       200000.000000   \n",
              "mean       38.795650         0.997910      26.395385            0.456605   \n",
              "std        15.495972         0.045669      13.231179            0.498115   \n",
              "min        20.000000         0.000000       0.000000            0.000000   \n",
              "25%        25.000000         1.000000      15.000000            0.000000   \n",
              "50%        36.000000         1.000000      28.000000            0.000000   \n",
              "75%        49.000000         1.000000      35.000000            1.000000   \n",
              "max        85.000000         1.000000      52.000000            1.000000   \n",
              "\n",
              "       Annual_Premium  Policy_Sales_Channel        Vintage       Response  \n",
              "count   200000.000000         200000.000000  200000.000000  200000.000000  \n",
              "mean     30527.882695            112.146275     154.373845       0.122670  \n",
              "std      17238.332195             54.136627      83.667991       0.328059  \n",
              "min       2630.000000              1.000000      10.000000       0.000000  \n",
              "25%      24394.000000             29.000000      82.000000       0.000000  \n",
              "50%      31619.000000            136.000000     154.000000       0.000000  \n",
              "75%      39354.000000            152.000000     227.000000       0.000000  \n",
              "max     540165.000000            163.000000     299.000000       1.000000  "
            ],
            "text/html": [
              "\n",
              "  <div id=\"df-0c2156ad-bdb4-47f2-a3bf-8f6b40d1fb33\">\n",
              "    <div class=\"colab-df-container\">\n",
              "      <div>\n",
              "<style scoped>\n",
              "    .dataframe tbody tr th:only-of-type {\n",
              "        vertical-align: middle;\n",
              "    }\n",
              "\n",
              "    .dataframe tbody tr th {\n",
              "        vertical-align: top;\n",
              "    }\n",
              "\n",
              "    .dataframe thead th {\n",
              "        text-align: right;\n",
              "    }\n",
              "</style>\n",
              "<table border=\"1\" class=\"dataframe\">\n",
              "  <thead>\n",
              "    <tr style=\"text-align: right;\">\n",
              "      <th></th>\n",
              "      <th>Age</th>\n",
              "      <th>Driving_License</th>\n",
              "      <th>Region_Code</th>\n",
              "      <th>Previously_Insured</th>\n",
              "      <th>Annual_Premium</th>\n",
              "      <th>Policy_Sales_Channel</th>\n",
              "      <th>Vintage</th>\n",
              "      <th>Response</th>\n",
              "    </tr>\n",
              "  </thead>\n",
              "  <tbody>\n",
              "    <tr>\n",
              "      <th>count</th>\n",
              "      <td>200000.000000</td>\n",
              "      <td>200000.000000</td>\n",
              "      <td>200000.000000</td>\n",
              "      <td>200000.000000</td>\n",
              "      <td>200000.000000</td>\n",
              "      <td>200000.000000</td>\n",
              "      <td>200000.000000</td>\n",
              "      <td>200000.000000</td>\n",
              "    </tr>\n",
              "    <tr>\n",
              "      <th>mean</th>\n",
              "      <td>38.795650</td>\n",
              "      <td>0.997910</td>\n",
              "      <td>26.395385</td>\n",
              "      <td>0.456605</td>\n",
              "      <td>30527.882695</td>\n",
              "      <td>112.146275</td>\n",
              "      <td>154.373845</td>\n",
              "      <td>0.122670</td>\n",
              "    </tr>\n",
              "    <tr>\n",
              "      <th>std</th>\n",
              "      <td>15.495972</td>\n",
              "      <td>0.045669</td>\n",
              "      <td>13.231179</td>\n",
              "      <td>0.498115</td>\n",
              "      <td>17238.332195</td>\n",
              "      <td>54.136627</td>\n",
              "      <td>83.667991</td>\n",
              "      <td>0.328059</td>\n",
              "    </tr>\n",
              "    <tr>\n",
              "      <th>min</th>\n",
              "      <td>20.000000</td>\n",
              "      <td>0.000000</td>\n",
              "      <td>0.000000</td>\n",
              "      <td>0.000000</td>\n",
              "      <td>2630.000000</td>\n",
              "      <td>1.000000</td>\n",
              "      <td>10.000000</td>\n",
              "      <td>0.000000</td>\n",
              "    </tr>\n",
              "    <tr>\n",
              "      <th>25%</th>\n",
              "      <td>25.000000</td>\n",
              "      <td>1.000000</td>\n",
              "      <td>15.000000</td>\n",
              "      <td>0.000000</td>\n",
              "      <td>24394.000000</td>\n",
              "      <td>29.000000</td>\n",
              "      <td>82.000000</td>\n",
              "      <td>0.000000</td>\n",
              "    </tr>\n",
              "    <tr>\n",
              "      <th>50%</th>\n",
              "      <td>36.000000</td>\n",
              "      <td>1.000000</td>\n",
              "      <td>28.000000</td>\n",
              "      <td>0.000000</td>\n",
              "      <td>31619.000000</td>\n",
              "      <td>136.000000</td>\n",
              "      <td>154.000000</td>\n",
              "      <td>0.000000</td>\n",
              "    </tr>\n",
              "    <tr>\n",
              "      <th>75%</th>\n",
              "      <td>49.000000</td>\n",
              "      <td>1.000000</td>\n",
              "      <td>35.000000</td>\n",
              "      <td>1.000000</td>\n",
              "      <td>39354.000000</td>\n",
              "      <td>152.000000</td>\n",
              "      <td>227.000000</td>\n",
              "      <td>0.000000</td>\n",
              "    </tr>\n",
              "    <tr>\n",
              "      <th>max</th>\n",
              "      <td>85.000000</td>\n",
              "      <td>1.000000</td>\n",
              "      <td>52.000000</td>\n",
              "      <td>1.000000</td>\n",
              "      <td>540165.000000</td>\n",
              "      <td>163.000000</td>\n",
              "      <td>299.000000</td>\n",
              "      <td>1.000000</td>\n",
              "    </tr>\n",
              "  </tbody>\n",
              "</table>\n",
              "</div>\n",
              "      <button class=\"colab-df-convert\" onclick=\"convertToInteractive('df-0c2156ad-bdb4-47f2-a3bf-8f6b40d1fb33')\"\n",
              "              title=\"Convert this dataframe to an interactive table.\"\n",
              "              style=\"display:none;\">\n",
              "        \n",
              "  <svg xmlns=\"http://www.w3.org/2000/svg\" height=\"24px\"viewBox=\"0 0 24 24\"\n",
              "       width=\"24px\">\n",
              "    <path d=\"M0 0h24v24H0V0z\" fill=\"none\"/>\n",
              "    <path d=\"M18.56 5.44l.94 2.06.94-2.06 2.06-.94-2.06-.94-.94-2.06-.94 2.06-2.06.94zm-11 1L8.5 8.5l.94-2.06 2.06-.94-2.06-.94L8.5 2.5l-.94 2.06-2.06.94zm10 10l.94 2.06.94-2.06 2.06-.94-2.06-.94-.94-2.06-.94 2.06-2.06.94z\"/><path d=\"M17.41 7.96l-1.37-1.37c-.4-.4-.92-.59-1.43-.59-.52 0-1.04.2-1.43.59L10.3 9.45l-7.72 7.72c-.78.78-.78 2.05 0 2.83L4 21.41c.39.39.9.59 1.41.59.51 0 1.02-.2 1.41-.59l7.78-7.78 2.81-2.81c.8-.78.8-2.07 0-2.86zM5.41 20L4 18.59l7.72-7.72 1.47 1.35L5.41 20z\"/>\n",
              "  </svg>\n",
              "      </button>\n",
              "      \n",
              "  <style>\n",
              "    .colab-df-container {\n",
              "      display:flex;\n",
              "      flex-wrap:wrap;\n",
              "      gap: 12px;\n",
              "    }\n",
              "\n",
              "    .colab-df-convert {\n",
              "      background-color: #E8F0FE;\n",
              "      border: none;\n",
              "      border-radius: 50%;\n",
              "      cursor: pointer;\n",
              "      display: none;\n",
              "      fill: #1967D2;\n",
              "      height: 32px;\n",
              "      padding: 0 0 0 0;\n",
              "      width: 32px;\n",
              "    }\n",
              "\n",
              "    .colab-df-convert:hover {\n",
              "      background-color: #E2EBFA;\n",
              "      box-shadow: 0px 1px 2px rgba(60, 64, 67, 0.3), 0px 1px 3px 1px rgba(60, 64, 67, 0.15);\n",
              "      fill: #174EA6;\n",
              "    }\n",
              "\n",
              "    [theme=dark] .colab-df-convert {\n",
              "      background-color: #3B4455;\n",
              "      fill: #D2E3FC;\n",
              "    }\n",
              "\n",
              "    [theme=dark] .colab-df-convert:hover {\n",
              "      background-color: #434B5C;\n",
              "      box-shadow: 0px 1px 3px 1px rgba(0, 0, 0, 0.15);\n",
              "      filter: drop-shadow(0px 1px 2px rgba(0, 0, 0, 0.3));\n",
              "      fill: #FFFFFF;\n",
              "    }\n",
              "  </style>\n",
              "\n",
              "      <script>\n",
              "        const buttonEl =\n",
              "          document.querySelector('#df-0c2156ad-bdb4-47f2-a3bf-8f6b40d1fb33 button.colab-df-convert');\n",
              "        buttonEl.style.display =\n",
              "          google.colab.kernel.accessAllowed ? 'block' : 'none';\n",
              "\n",
              "        async function convertToInteractive(key) {\n",
              "          const element = document.querySelector('#df-0c2156ad-bdb4-47f2-a3bf-8f6b40d1fb33');\n",
              "          const dataTable =\n",
              "            await google.colab.kernel.invokeFunction('convertToInteractive',\n",
              "                                                     [key], {});\n",
              "          if (!dataTable) return;\n",
              "\n",
              "          const docLinkHtml = 'Like what you see? Visit the ' +\n",
              "            '<a target=\"_blank\" href=https://colab.research.google.com/notebooks/data_table.ipynb>data table notebook</a>'\n",
              "            + ' to learn more about interactive tables.';\n",
              "          element.innerHTML = '';\n",
              "          dataTable['output_type'] = 'display_data';\n",
              "          await google.colab.output.renderOutput(dataTable, element);\n",
              "          const docLink = document.createElement('div');\n",
              "          docLink.innerHTML = docLinkHtml;\n",
              "          element.appendChild(docLink);\n",
              "        }\n",
              "      </script>\n",
              "    </div>\n",
              "  </div>\n",
              "  "
            ]
          },
          "metadata": {},
          "execution_count": 7
        }
      ],
      "source": [
        "data.describe()   ## Describe the data"
      ]
    },
    {
      "cell_type": "markdown",
      "metadata": {
        "id": "oRumd6XUBU-i"
      },
      "source": [
        "###  <font color = ''><b><span style='color:#0386f7de'>|</span> Data Visualization <a id=\"prep\"></a></font>"
      ]
    },
    {
      "cell_type": "markdown",
      "metadata": {
        "id": "teHJkAW2Li2c"
      },
      "source": [
        "### <font color = ''><b><span style='color:#0386f7de'>|</span> Numerical Data <a id=\"prep\"></a></font>"
      ]
    },
    {
      "cell_type": "markdown",
      "metadata": {
        "id": "L-HkxmIfmpGk"
      },
      "source": [
        "#### <font color = ''><b>1.1<span style='color:#0386f7de'>|</span> Age <a id=\"prep\"></a></font>"
      ]
    },
    {
      "cell_type": "code",
      "execution_count": 8,
      "metadata": {
        "colab": {
          "base_uri": "https://localhost:8080/",
          "height": 334
        },
        "id": "_zqQ0Sw68Ieo",
        "outputId": "ce94304e-6bb4-4112-b3e3-1d82287ac6ff"
      },
      "outputs": [
        {
          "output_type": "display_data",
          "data": {
            "text/plain": [
              "<Figure size 1080x360 with 3 Axes>"
            ],
            "image/png": "[encoded data removed]"
          },
          "metadata": {
            "needs_background": "light"
          }
        }
      ],
      "source": [
        "fig,ax=plt.subplots(1,3,figsize=(15,5))\n",
        "sns.histplot(data['Age'], ax = ax[0], kde=True)     ## Age Visualization\n",
        "sns.boxplot(data = data, x = data['Age'], ax = ax[1])\n",
        "sns.violinplot(data = data, x = data['Age'], ax = ax[2])\n",
        "plt.show()"
      ]
    },
    {
      "cell_type": "markdown",
      "metadata": {
        "id": "WvFIRj5Sm6lQ"
      },
      "source": [
        "#### <font color = ''><b>1.2<span style='color:#0386f7de'>|</span> Annual Premium <a id=\"prep\"></a></font>"
      ]
    },
    {
      "cell_type": "code",
      "execution_count": 9,
      "metadata": {
        "colab": {
          "base_uri": "https://localhost:8080/",
          "height": 335
        },
        "id": "wr4C3ZZU8IYJ",
        "outputId": "cb478764-061d-4716-f03f-e9bc6cbed119"
      },
      "outputs": [
        {
          "output_type": "display_data",
          "data": {
            "text/plain": [
              "<Figure size 1080x360 with 3 Axes>"
            ],
            "image/png": "[encoded data removed]"
          },
          "metadata": {
            "needs_background": "light"
          }
        }
      ],
      "source": [
        "fig,ax=plt.subplots(1,3,figsize=(15,5))\n",
        "sns.histplot(data['Annual_Premium'], ax = ax[0], kde=True)     ## Annual Premium Visualization\n",
        "sns.boxplot(data = data, x = data['Annual_Premium'], ax = ax[1])\n",
        "sns.violinplot(data = data, x = data['Annual_Premium'], ax = ax[2])\n",
        "plt.show()"
      ]
    },
    {
      "cell_type": "markdown",
      "metadata": {
        "id": "M4dFKhWrniDb"
      },
      "source": [
        "#### <font color = ''><b>1.3<span style='color:#0386f7de'>|</span> Policy Sales Channel <a id=\"prep\"></a></font>"
      ]
    },
    {
      "cell_type": "code",
      "execution_count": 10,
      "metadata": {
        "colab": {
          "base_uri": "https://localhost:8080/",
          "height": 338
        },
        "id": "S8yMu0998IVB",
        "outputId": "f153c3b9-91e8-43ce-f08f-9fc15dc19d94"
      },
      "outputs": [
        {
          "output_type": "display_data",
          "data": {
            "text/plain": [
              "<Figure size 1080x360 with 3 Axes>"
            ],
            "image/png": "[encoded data removed]"
          },
          "metadata": {
            "needs_background": "light"
          }
        }
      ],
      "source": [
        "fig,ax=plt.subplots(1,3,figsize=(15,5))\n",
        "sns.histplot(data['Policy_Sales_Channel'], ax = ax[0], kde=True)     ## Policy Sales Channel Visualization\n",
        "sns.boxplot(data = data, x = data['Policy_Sales_Channel'], ax = ax[1])\n",
        "sns.violinplot(data = data, x = data['Policy_Sales_Channel'], ax = ax[2])\n",
        "plt.show()"
      ]
    },
    {
      "cell_type": "markdown",
      "metadata": {
        "id": "-jkUEGxupFZm"
      },
      "source": [
        "#### <font color = ''><b>1.4<span style='color:#0386f7de'>|</span> Vintage <a id=\"prep\"></a></font>"
      ]
    },
    {
      "cell_type": "code",
      "execution_count": 11,
      "metadata": {
        "colab": {
          "base_uri": "https://localhost:8080/",
          "height": 334
        },
        "id": "8sPrLK-N8IR4",
        "outputId": "2149bc8f-fc44-4953-97bb-5cabd1321996"
      },
      "outputs": [
        {
          "output_type": "display_data",
          "data": {
            "text/plain": [
              "<Figure size 1080x360 with 3 Axes>"
            ],
            "image/png": "[encoded data removed]"
          },
          "metadata": {
            "needs_background": "light"
          }
        }
      ],
      "source": [
        "fig,ax=plt.subplots(1,3,figsize=(15,5))\n",
        "sns.histplot(data['Vintage'], ax = ax[0], kde=True)     ## Vintage Visualization\n",
        "sns.boxplot(data = data, x = data['Vintage'], ax = ax[1])\n",
        "sns.violinplot(data = data, x = data['Vintage'], ax = ax[2])\n",
        "plt.show()"
      ]
    },
    {
      "cell_type": "markdown",
      "metadata": {
        "id": "U4Y414U9KUHU"
      },
      "source": [
        "#### <font color = ''><b>1.5<span style='color:#0386f7de'>|</span> Region_Code <a id=\"prep\"></a></font>"
      ]
    },
    {
      "cell_type": "code",
      "execution_count": 12,
      "metadata": {
        "colab": {
          "base_uri": "https://localhost:8080/",
          "height": 335
        },
        "id": "dnZFN1w0mSzc",
        "outputId": "8ad39109-8ce7-4423-9672-f6b16a8d1fd6"
      },
      "outputs": [
        {
          "output_type": "display_data",
          "data": {
            "text/plain": [
              "<Figure size 1080x360 with 3 Axes>"
            ],
            "image/png": "[encoded data removed]"
          },
          "metadata": {
            "needs_background": "light"
          }
        }
      ],
      "source": [
        "fig,ax=plt.subplots(1,3,figsize=(15,5))\n",
        "sns.histplot(data['Region_Code'], ax = ax[0], kde=True)     ## Region_Code Visualization\n",
        "sns.boxplot(data = data, x = data['Region_Code'], ax = ax[1])\n",
        "sns.violinplot(data = data, x = data['Region_Code'], ax = ax[2])\n",
        "plt.show()"
      ]
    },
    {
      "cell_type": "markdown",
      "metadata": {
        "id": "rThIELYiL92U"
      },
      "source": [
        "### <font color = ''><b><span style='color:#0386f7de'>|</span> Categorical Data <a id=\"prep\"></a></font>"
      ]
    },
    {
      "cell_type": "markdown",
      "metadata": {
        "id": "5J_2J3ZeMxhp"
      },
      "source": [
        "#### <font color = ''><b>2.1<span style='color:#0386f7de'>|</span> Gender<a id=\"prep\"></a></font>"
      ]
    },
    {
      "cell_type": "code",
      "source": [
        "# This will help to give us information about it's unique values and count of each value.\n",
        "print('Unique values\\n',data['Gender'].unique())\n",
        "print('Value Counts\\n',data['Gender'].value_counts())"
      ],
      "metadata": {
        "colab": {
          "base_uri": "https://localhost:8080/",
          "height": 0
        },
        "id": "Iq6LKJtwQgk9",
        "outputId": "c6c345a2-c421-42cb-e611-572791a578d6"
      },
      "execution_count": 13,
      "outputs": [
        {
          "output_type": "stream",
          "name": "stdout",
          "text": [
            "Unique values\n",
            " ['Male' 'Female']\n",
            "Value Counts\n",
            " Male      108047\n",
            "Female     91953\n",
            "Name: Gender, dtype: int64\n"
          ]
        }
      ]
    },
    {
      "cell_type": "code",
      "execution_count": 14,
      "metadata": {
        "colab": {
          "base_uri": "https://localhost:8080/",
          "height": 334
        },
        "id": "P6fy8uaDMwN3",
        "outputId": "016a532d-dc2f-4650-f768-4f87110655ec"
      },
      "outputs": [
        {
          "output_type": "display_data",
          "data": {
            "text/plain": [
              "<Figure size 1080x360 with 2 Axes>"
            ],
            "image/png": "[encoded data removed]"
          },
          "metadata": {
            "needs_background": "light"
          }
        }
      ],
      "source": [
        "fig, axes = plt.subplots(1, 2, sharex=True, figsize=(15,5))      ## Vehicle Age Visualization.\n",
        "sns.countplot(data['Gender'], data=data, ax = axes[0])\n",
        "sns.countplot(data['Gender'], hue='Response', data=data, ax = axes[1])\n",
        "plt.show()"
      ]
    },
    {
      "cell_type": "markdown",
      "metadata": {
        "id": "sK_nPancMYiA"
      },
      "source": [
        "#### <font color = ''><b>2.2<span style='color:#0386f7de'>|</span> Vehicle Age<a id=\"prep\"></a></font>"
      ]
    },
    {
      "cell_type": "code",
      "source": [
        "# This will help to give us information about it's unique values and count of each value.\n",
        "print('Unique values\\n',data['Vehicle_Age'].unique())\n",
        "print('Value Counts\\n',data['Vehicle_Age'].value_counts())"
      ],
      "metadata": {
        "colab": {
          "base_uri": "https://localhost:8080/",
          "height": 0
        },
        "id": "dobSo-pqQq7w",
        "outputId": "b32f552e-d97d-4e67-dfc2-cdeaa9d5634c"
      },
      "execution_count": 15,
      "outputs": [
        {
          "output_type": "stream",
          "name": "stdout",
          "text": [
            "Unique values\n",
            " ['> 2 Years' '1-2 Year' '< 1 Year']\n",
            "Value Counts\n",
            " 1-2 Year     104968\n",
            "< 1 Year      86590\n",
            "> 2 Years      8442\n",
            "Name: Vehicle_Age, dtype: int64\n"
          ]
        }
      ]
    },
    {
      "cell_type": "code",
      "execution_count": 16,
      "metadata": {
        "colab": {
          "base_uri": "https://localhost:8080/",
          "height": 335
        },
        "id": "FkTNADqv8ILo",
        "outputId": "70173245-f032-4314-88fc-5896366991cf"
      },
      "outputs": [
        {
          "output_type": "display_data",
          "data": {
            "text/plain": [
              "<Figure size 1080x360 with 2 Axes>"
            ],
            "image/png": "[encoded data removed]"
          },
          "metadata": {
            "needs_background": "light"
          }
        }
      ],
      "source": [
        "fig, axes = plt.subplots(1, 2, sharex=True, figsize=(15,5))      ## Vehicle Age Visualization.\n",
        "sns.countplot(data['Vehicle_Age'], data=data, ax = axes[0])\n",
        "sns.countplot(data['Vehicle_Age'], hue='Response', data=data, ax = axes[1])\n",
        "plt.show()"
      ]
    },
    {
      "cell_type": "markdown",
      "metadata": {
        "id": "p7zhwG3fPhaG"
      },
      "source": [
        "#### <font color = ''><b>2.3<span style='color:#0386f7de'>|</span> Driving_License <a id=\"prep\"></a></font>"
      ]
    },
    {
      "cell_type": "code",
      "source": [
        "# This will help to give us information about it's unique values and count of each value.\n",
        "print('Unique values\\n',data['Driving_License'].unique())\n",
        "print('Value Counts\\n',data['Driving_License'].value_counts())"
      ],
      "metadata": {
        "colab": {
          "base_uri": "https://localhost:8080/",
          "height": 0
        },
        "id": "WXxNQbUDQzgy",
        "outputId": "8b90f2dc-22f5-4916-c743-7a5212147bc2"
      },
      "execution_count": 17,
      "outputs": [
        {
          "output_type": "stream",
          "name": "stdout",
          "text": [
            "Unique values\n",
            " [1 0]\n",
            "Value Counts\n",
            " 1    199582\n",
            "0       418\n",
            "Name: Driving_License, dtype: int64\n"
          ]
        }
      ]
    },
    {
      "cell_type": "code",
      "execution_count": 18,
      "metadata": {
        "colab": {
          "base_uri": "https://localhost:8080/",
          "height": 335
        },
        "id": "fPwWUu0sPgr0",
        "outputId": "4d8126e4-a902-4644-a0d1-17ab425fdaab"
      },
      "outputs": [
        {
          "output_type": "display_data",
          "data": {
            "text/plain": [
              "<Figure size 1080x360 with 2 Axes>"
            ],
            "image/png": "[encoded data removed]"
          },
          "metadata": {
            "needs_background": "light"
          }
        }
      ],
      "source": [
        "fig, axes = plt.subplots(1, 2, sharex=True, figsize=(15,5))      ## Driving License Visualization.\n",
        "sns.countplot(data['Driving_License'], data=data, ax = axes[0])\n",
        "sns.countplot(data['Driving_License'], hue='Response', data=data, ax = axes[1])\n",
        "plt.show()"
      ]
    },
    {
      "cell_type": "markdown",
      "metadata": {
        "id": "b5uJNJ7xP5Je"
      },
      "source": [
        "#### <font color = ''><b>2.4<span style='color:#0386f7de'>|</span> Previously_Insured <a id=\"prep\"></a></font>"
      ]
    },
    {
      "cell_type": "code",
      "source": [
        "# This will help to give us information about it's unique values and count of each value.\n",
        "print('Unique values\\n',data['Previously_Insured'].unique())\n",
        "print('Value Counts\\n',data['Previously_Insured'].value_counts())"
      ],
      "metadata": {
        "colab": {
          "base_uri": "https://localhost:8080/",
          "height": 0
        },
        "id": "cUe-nId0Q62I",
        "outputId": "3beb4f58-51b4-465e-cb6f-2eb9da85df3c"
      },
      "execution_count": 19,
      "outputs": [
        {
          "output_type": "stream",
          "name": "stdout",
          "text": [
            "Unique values\n",
            " [0 1]\n",
            "Value Counts\n",
            " 0    108679\n",
            "1     91321\n",
            "Name: Previously_Insured, dtype: int64\n"
          ]
        }
      ]
    },
    {
      "cell_type": "code",
      "execution_count": 20,
      "metadata": {
        "colab": {
          "base_uri": "https://localhost:8080/",
          "height": 335
        },
        "id": "mwrM45Y5P1y8",
        "outputId": "ef49f0e2-f467-4fdf-8989-ffe033cd929f"
      },
      "outputs": [
        {
          "output_type": "display_data",
          "data": {
            "text/plain": [
              "<Figure size 1080x360 with 2 Axes>"
            ],
            "image/png": "[encoded data removed]"
          },
          "metadata": {
            "needs_background": "light"
          }
        }
      ],
      "source": [
        "fig, axes = plt.subplots(1, 2, sharex=True, figsize=(15,5))      ## Previously Insured Visualization.\n",
        "sns.countplot(data['Previously_Insured'], data=data, ax = axes[0])\n",
        "sns.countplot(data['Previously_Insured'], hue='Response', data=data, ax = axes[1])\n",
        "plt.show()"
      ]
    },
    {
      "cell_type": "markdown",
      "metadata": {
        "id": "2F183Re9QZ0g"
      },
      "source": [
        "#### <font color = ''><b>2.4<span style='color:#0386f7de'>|</span> Vehicle_Damage <a id=\"prep\"></a></font>"
      ]
    },
    {
      "cell_type": "code",
      "source": [
        "# This will help to give us information about it's unique values and count of each value.\n",
        "print('Unique values\\n',data['Vehicle_Damage'].unique())\n",
        "print('Value Counts\\n',data['Vehicle_Damage'].value_counts())"
      ],
      "metadata": {
        "colab": {
          "base_uri": "https://localhost:8080/",
          "height": 0
        },
        "id": "B_KUCOtAQ_nD",
        "outputId": "2f5d9b6b-8bf7-429f-d2c7-c8df6d55a6ea"
      },
      "execution_count": 21,
      "outputs": [
        {
          "output_type": "stream",
          "name": "stdout",
          "text": [
            "Unique values\n",
            " ['Yes' 'No']\n",
            "Value Counts\n",
            " Yes    101164\n",
            "No      98836\n",
            "Name: Vehicle_Damage, dtype: int64\n"
          ]
        }
      ]
    },
    {
      "cell_type": "code",
      "execution_count": 22,
      "metadata": {
        "colab": {
          "base_uri": "https://localhost:8080/",
          "height": 335
        },
        "id": "RLcobsmBQZn_",
        "outputId": "e8ebfa83-f9bb-465a-eacd-20717634580a"
      },
      "outputs": [
        {
          "output_type": "display_data",
          "data": {
            "text/plain": [
              "<Figure size 1080x360 with 2 Axes>"
            ],
            "image/png": "[encoded data removed]"
          },
          "metadata": {
            "needs_background": "light"
          }
        }
      ],
      "source": [
        "fig, axes = plt.subplots(1, 2, sharex=True, figsize=(15,5))      ## Vehicle Damage Visualization.\n",
        "sns.countplot(data['Vehicle_Damage'], data=data, ax = axes[0])\n",
        "sns.countplot(data['Vehicle_Damage'], hue='Response', data=data, ax = axes[1])\n",
        "plt.show()"
      ]
    },
    {
      "cell_type": "markdown",
      "metadata": {
        "id": "BwFiPNdjOyKV"
      },
      "source": [
        "#### <font color = ''><b>2.5<span style='color:#0386f7de'>|</span> Response <a id=\"prep\"></a></font>"
      ]
    },
    {
      "cell_type": "code",
      "source": [
        "# This will help to give us information about it's unique values and count of each value.\n",
        "print('Unique values\\n',data['Response'].unique())\n",
        "print('Value Counts\\n',data['Response'].value_counts())"
      ],
      "metadata": {
        "colab": {
          "base_uri": "https://localhost:8080/",
          "height": 0
        },
        "id": "4TQJ5g4VREeU",
        "outputId": "92071c51-736a-427e-ef06-1df0af1e9276"
      },
      "execution_count": 23,
      "outputs": [
        {
          "output_type": "stream",
          "name": "stdout",
          "text": [
            "Unique values\n",
            " [1 0]\n",
            "Value Counts\n",
            " 0    175466\n",
            "1     24534\n",
            "Name: Response, dtype: int64\n"
          ]
        }
      ]
    },
    {
      "cell_type": "code",
      "execution_count": 24,
      "metadata": {
        "colab": {
          "base_uri": "https://localhost:8080/",
          "height": 264
        },
        "id": "iSihW0jAOxdK",
        "outputId": "2335ebef-026c-4dcf-bc05-1e3bc4ec8725"
      },
      "outputs": [
        {
          "output_type": "display_data",
          "data": {
            "text/plain": [
              "<Figure size 432x288 with 1 Axes>"
            ],
            "image/png": "[encoded data removed]"
          },
          "metadata": {}
        }
      ],
      "source": [
        "plt.title(\"Response\")     ## Response Visualization\n",
        "plt.pie(np.array(data['Response'].value_counts()),labels=['No','Yes'],explode=[0,0.2],autopct='%1.1f%%')\n",
        "plt.show()"
      ]
    },
    {
      "cell_type": "markdown",
      "metadata": {
        "id": "-Kldfk7bbXx0"
      },
      "source": [
        "### <font color = ''><b><span style='color:#0386f7de'>|</span> Data Cleaning <a id=\"prep\"></a></font>"
      ]
    },
    {
      "cell_type": "code",
      "execution_count": 25,
      "metadata": {
        "colab": {
          "base_uri": "https://localhost:8080/",
          "height": 0
        },
        "id": "iHrr6_uhbXQj",
        "outputId": "74d52f37-29cb-4150-ea2b-498638023722"
      },
      "outputs": [
        {
          "output_type": "execute_result",
          "data": {
            "text/plain": [
              "0.050      2630.00\n",
              "0.100      2630.00\n",
              "0.250     24394.00\n",
              "0.500     31619.00\n",
              "0.750     39354.00\n",
              "0.900     48419.20\n",
              "0.910     49378.00\n",
              "0.915     49897.00\n",
              "0.920     50464.00\n",
              "0.950     55180.20\n",
              "0.980     65247.02\n",
              "0.990     72861.10\n",
              "1.000    540165.00\n",
              "Name: Annual_Premium, dtype: float64"
            ]
          },
          "metadata": {},
          "execution_count": 25
        }
      ],
      "source": [
        "annual_premium_per=data[\"Annual_Premium\"].quantile([0.05,0.1,0.25,0.50,0.75,0.90,0.91,0.915,0.92,0.95,0.98,0.99,1])\n",
        "annual_premium_per"
      ]
    },
    {
      "cell_type": "markdown",
      "metadata": {
        "id": "u1R0hObXdDY2"
      },
      "source": [
        "- `As per the limit set by IRDAI(Insurance Regulatory and Development Authority of India), premiums can be paid up to Rs. 50,000.`\n",
        "- `So 92% of the data is cleaned and 8% of the data has issues, so we convert that 8% data to median of overall Annual Premium.`"
      ]
    },
    {
      "cell_type": "code",
      "execution_count": 26,
      "metadata": {
        "id": "V8LSiJI0dumx"
      },
      "outputs": [],
      "source": [
        "data[\"Annual_Premium_New\"]=data[\"Annual_Premium\"]\n",
        "data[\"Annual_Premium_New\"][data[\"Annual_Premium\"]>50000.00]=data[\"Annual_Premium\"].median()   # Assigning the outliers as Median."
      ]
    },
    {
      "cell_type": "code",
      "execution_count": 27,
      "metadata": {
        "id": "0Sqefh-5cc1b"
      },
      "outputs": [],
      "source": [
        "data.drop('Annual_Premium', axis = 1, inplace = True)  ## Removing 'Annual_Premium' column from the data."
      ]
    },
    {
      "cell_type": "code",
      "execution_count": 28,
      "metadata": {
        "colab": {
          "base_uri": "https://localhost:8080/",
          "height": 0
        },
        "id": "cgKREFjhcvuF",
        "outputId": "c4b53d51-c666-4939-f080-b1bddc20d44f"
      },
      "outputs": [
        {
          "output_type": "execute_result",
          "data": {
            "text/plain": [
              "count    200000.000000\n",
              "mean      27978.514440\n",
              "std       13152.633601\n",
              "min        2630.000000\n",
              "25%       24394.000000\n",
              "50%       31619.000000\n",
              "75%       36370.000000\n",
              "max       50000.000000\n",
              "Name: Annual_Premium_New, dtype: float64"
            ]
          },
          "metadata": {},
          "execution_count": 28
        }
      ],
      "source": [
        "data[\"Annual_Premium_New\"].describe()  ## Description of New Annual Premium column."
      ]
    },
    {
      "cell_type": "code",
      "execution_count": 29,
      "metadata": {
        "colab": {
          "base_uri": "https://localhost:8080/",
          "height": 280
        },
        "id": "1MtnJTEwdn-0",
        "outputId": "228fba44-caf1-44a4-b79a-79f96a0dd08d"
      },
      "outputs": [
        {
          "output_type": "display_data",
          "data": {
            "text/plain": [
              "<Figure size 432x288 with 1 Axes>"
            ],
            "image/png": "[encoded data removed]"
          },
          "metadata": {
            "needs_background": "light"
          }
        }
      ],
      "source": [
        "sns.boxplot(data = data, x = data['Annual_Premium_New'])  ## Box plot of cleaned Annual Premium.\n",
        "plt.show()"
      ]
    },
    {
      "cell_type": "markdown",
      "metadata": {
        "id": "lkfbSgWiNTNZ"
      },
      "source": [
        "###  <font color = ''><b><span style='color:#0386f7de'>|</span> Convert Non-numerical Data into Numerical <a id=\"prep\"></a></font>"
      ]
    },
    {
      "cell_type": "code",
      "execution_count": 30,
      "metadata": {
        "id": "hJiBtcE8d4Br"
      },
      "outputs": [],
      "source": [
        "df = data.copy()  ## Copying the prevoius data to new flag variable so we can edit the new data and prevent the previous data."
      ]
    },
    {
      "cell_type": "code",
      "execution_count": 31,
      "metadata": {
        "colab": {
          "base_uri": "https://localhost:8080/",
          "height": 488
        },
        "id": "raoohGF5eWLx",
        "outputId": "f11ea00f-6168-451c-dcac-cb6af2d07452"
      },
      "outputs": [
        {
          "output_type": "execute_result",
          "data": {
            "text/plain": [
              "        Gender  Age  Driving_License  Region_Code  Previously_Insured  \\\n",
              "0         Male   44                1           28                   0   \n",
              "1         Male   76                1            3                   0   \n",
              "2         Male   47                1           28                   0   \n",
              "3         Male   21                1           11                   1   \n",
              "4       Female   29                1           41                   1   \n",
              "...        ...  ...              ...          ...                 ...   \n",
              "199995  Female   24                1            2                   0   \n",
              "199996  Female   23                1           39                   0   \n",
              "199997    Male   52                1           29                   0   \n",
              "199998  Female   20                1           36                   1   \n",
              "199999  Female   35                1           46                   1   \n",
              "\n",
              "       Vehicle_Age Vehicle_Damage  Policy_Sales_Channel  Vintage  Response  \\\n",
              "0        > 2 Years            Yes                    26      217         1   \n",
              "1         1-2 Year             No                    26      183         0   \n",
              "2        > 2 Years            Yes                    26       27         1   \n",
              "3         < 1 Year             No                   152      203         0   \n",
              "4         < 1 Year             No                   152       39         0   \n",
              "...            ...            ...                   ...      ...       ...   \n",
              "199995    < 1 Year            Yes                   152       73         0   \n",
              "199996    < 1 Year            Yes                    26       40         0   \n",
              "199997    1-2 Year            Yes                    26      233         1   \n",
              "199998    < 1 Year             No                   160      180         0   \n",
              "199999    1-2 Year             No                   152       10         0   \n",
              "\n",
              "        Annual_Premium_New  \n",
              "0                    40454  \n",
              "1                    33536  \n",
              "2                    38294  \n",
              "3                    28619  \n",
              "4                    27496  \n",
              "...                    ...  \n",
              "199995               18654  \n",
              "199996               49472  \n",
              "199997               36164  \n",
              "199998               37336  \n",
              "199999                2630  \n",
              "\n",
              "[200000 rows x 11 columns]"
            ],
            "text/html": [
              "\n",
              "  <div id=\"df-268a89fe-d186-4830-927e-e061a374284c\">\n",
              "    <div class=\"colab-df-container\">\n",
              "      <div>\n",
              "<style scoped>\n",
              "    .dataframe tbody tr th:only-of-type {\n",
              "        vertical-align: middle;\n",
              "    }\n",
              "\n",
              "    .dataframe tbody tr th {\n",
              "        vertical-align: top;\n",
              "    }\n",
              "\n",
              "    .dataframe thead th {\n",
              "        text-align: right;\n",
              "    }\n",
              "</style>\n",
              "<table border=\"1\" class=\"dataframe\">\n",
              "  <thead>\n",
              "    <tr style=\"text-align: right;\">\n",
              "      <th></th>\n",
              "      <th>Gender</th>\n",
              "      <th>Age</th>\n",
              "      <th>Driving_License</th>\n",
              "      <th>Region_Code</th>\n",
              "      <th>Previously_Insured</th>\n",
              "      <th>Vehicle_Age</th>\n",
              "      <th>Vehicle_Damage</th>\n",
              "      <th>Policy_Sales_Channel</th>\n",
              "      <th>Vintage</th>\n",
              "      <th>Response</th>\n",
              "      <th>Annual_Premium_New</th>\n",
              "    </tr>\n",
              "  </thead>\n",
              "  <tbody>\n",
              "    <tr>\n",
              "      <th>0</th>\n",
              "      <td>Male</td>\n",
              "      <td>44</td>\n",
              "      <td>1</td>\n",
              "      <td>28</td>\n",
              "      <td>0</td>\n",
              "      <td>&gt; 2 Years</td>\n",
              "      <td>Yes</td>\n",
              "      <td>26</td>\n",
              "      <td>217</td>\n",
              "      <td>1</td>\n",
              "      <td>40454</td>\n",
              "    </tr>\n",
              "    <tr>\n",
              "      <th>1</th>\n",
              "      <td>Male</td>\n",
              "      <td>76</td>\n",
              "      <td>1</td>\n",
              "      <td>3</td>\n",
              "      <td>0</td>\n",
              "      <td>1-2 Year</td>\n",
              "      <td>No</td>\n",
              "      <td>26</td>\n",
              "      <td>183</td>\n",
              "      <td>0</td>\n",
              "      <td>33536</td>\n",
              "    </tr>\n",
              "    <tr>\n",
              "      <th>2</th>\n",
              "      <td>Male</td>\n",
              "      <td>47</td>\n",
              "      <td>1</td>\n",
              "      <td>28</td>\n",
              "      <td>0</td>\n",
              "      <td>&gt; 2 Years</td>\n",
              "      <td>Yes</td>\n",
              "      <td>26</td>\n",
              "      <td>27</td>\n",
              "      <td>1</td>\n",
              "      <td>38294</td>\n",
              "    </tr>\n",
              "    <tr>\n",
              "      <th>3</th>\n",
              "      <td>Male</td>\n",
              "      <td>21</td>\n",
              "      <td>1</td>\n",
              "      <td>11</td>\n",
              "      <td>1</td>\n",
              "      <td>&lt; 1 Year</td>\n",
              "      <td>No</td>\n",
              "      <td>152</td>\n",
              "      <td>203</td>\n",
              "      <td>0</td>\n",
              "      <td>28619</td>\n",
              "    </tr>\n",
              "    <tr>\n",
              "      <th>4</th>\n",
              "      <td>Female</td>\n",
              "      <td>29</td>\n",
              "      <td>1</td>\n",
              "      <td>41</td>\n",
              "      <td>1</td>\n",
              "      <td>&lt; 1 Year</td>\n",
              "      <td>No</td>\n",
              "      <td>152</td>\n",
              "      <td>39</td>\n",
              "      <td>0</td>\n",
              "      <td>27496</td>\n",
              "    </tr>\n",
              "    <tr>\n",
              "      <th>...</th>\n",
              "      <td>...</td>\n",
              "      <td>...</td>\n",
              "      <td>...</td>\n",
              "      <td>...</td>\n",
              "      <td>...</td>\n",
              "      <td>...</td>\n",
              "      <td>...</td>\n",
              "      <td>...</td>\n",
              "      <td>...</td>\n",
              "      <td>...</td>\n",
              "      <td>...</td>\n",
              "    </tr>\n",
              "    <tr>\n",
              "      <th>199995</th>\n",
              "      <td>Female</td>\n",
              "      <td>24</td>\n",
              "      <td>1</td>\n",
              "      <td>2</td>\n",
              "      <td>0</td>\n",
              "      <td>&lt; 1 Year</td>\n",
              "      <td>Yes</td>\n",
              "      <td>152</td>\n",
              "      <td>73</td>\n",
              "      <td>0</td>\n",
              "      <td>18654</td>\n",
              "    </tr>\n",
              "    <tr>\n",
              "      <th>199996</th>\n",
              "      <td>Female</td>\n",
              "      <td>23</td>\n",
              "      <td>1</td>\n",
              "      <td>39</td>\n",
              "      <td>0</td>\n",
              "      <td>&lt; 1 Year</td>\n",
              "      <td>Yes</td>\n",
              "      <td>26</td>\n",
              "      <td>40</td>\n",
              "      <td>0</td>\n",
              "      <td>49472</td>\n",
              "    </tr>\n",
              "    <tr>\n",
              "      <th>199997</th>\n",
              "      <td>Male</td>\n",
              "      <td>52</td>\n",
              "      <td>1</td>\n",
              "      <td>29</td>\n",
              "      <td>0</td>\n",
              "      <td>1-2 Year</td>\n",
              "      <td>Yes</td>\n",
              "      <td>26</td>\n",
              "      <td>233</td>\n",
              "      <td>1</td>\n",
              "      <td>36164</td>\n",
              "    </tr>\n",
              "    <tr>\n",
              "      <th>199998</th>\n",
              "      <td>Female</td>\n",
              "      <td>20</td>\n",
              "      <td>1</td>\n",
              "      <td>36</td>\n",
              "      <td>1</td>\n",
              "      <td>&lt; 1 Year</td>\n",
              "      <td>No</td>\n",
              "      <td>160</td>\n",
              "      <td>180</td>\n",
              "      <td>0</td>\n",
              "      <td>37336</td>\n",
              "    </tr>\n",
              "    <tr>\n",
              "      <th>199999</th>\n",
              "      <td>Female</td>\n",
              "      <td>35</td>\n",
              "      <td>1</td>\n",
              "      <td>46</td>\n",
              "      <td>1</td>\n",
              "      <td>1-2 Year</td>\n",
              "      <td>No</td>\n",
              "      <td>152</td>\n",
              "      <td>10</td>\n",
              "      <td>0</td>\n",
              "      <td>2630</td>\n",
              "    </tr>\n",
              "  </tbody>\n",
              "</table>\n",
              "<p>200000 rows × 11 columns</p>\n",
              "</div>\n",
              "      <button class=\"colab-df-convert\" onclick=\"convertToInteractive('df-268a89fe-d186-4830-927e-e061a374284c')\"\n",
              "              title=\"Convert this dataframe to an interactive table.\"\n",
              "              style=\"display:none;\">\n",
              "        \n",
              "  <svg xmlns=\"http://www.w3.org/2000/svg\" height=\"24px\"viewBox=\"0 0 24 24\"\n",
              "       width=\"24px\">\n",
              "    <path d=\"M0 0h24v24H0V0z\" fill=\"none\"/>\n",
              "    <path d=\"M18.56 5.44l.94 2.06.94-2.06 2.06-.94-2.06-.94-.94-2.06-.94 2.06-2.06.94zm-11 1L8.5 8.5l.94-2.06 2.06-.94-2.06-.94L8.5 2.5l-.94 2.06-2.06.94zm10 10l.94 2.06.94-2.06 2.06-.94-2.06-.94-.94-2.06-.94 2.06-2.06.94z\"/><path d=\"M17.41 7.96l-1.37-1.37c-.4-.4-.92-.59-1.43-.59-.52 0-1.04.2-1.43.59L10.3 9.45l-7.72 7.72c-.78.78-.78 2.05 0 2.83L4 21.41c.39.39.9.59 1.41.59.51 0 1.02-.2 1.41-.59l7.78-7.78 2.81-2.81c.8-.78.8-2.07 0-2.86zM5.41 20L4 18.59l7.72-7.72 1.47 1.35L5.41 20z\"/>\n",
              "  </svg>\n",
              "      </button>\n",
              "      \n",
              "  <style>\n",
              "    .colab-df-container {\n",
              "      display:flex;\n",
              "      flex-wrap:wrap;\n",
              "      gap: 12px;\n",
              "    }\n",
              "\n",
              "    .colab-df-convert {\n",
              "      background-color: #E8F0FE;\n",
              "      border: none;\n",
              "      border-radius: 50%;\n",
              "      cursor: pointer;\n",
              "      display: none;\n",
              "      fill: #1967D2;\n",
              "      height: 32px;\n",
              "      padding: 0 0 0 0;\n",
              "      width: 32px;\n",
              "    }\n",
              "\n",
              "    .colab-df-convert:hover {\n",
              "      background-color: #E2EBFA;\n",
              "      box-shadow: 0px 1px 2px rgba(60, 64, 67, 0.3), 0px 1px 3px 1px rgba(60, 64, 67, 0.15);\n",
              "      fill: #174EA6;\n",
              "    }\n",
              "\n",
              "    [theme=dark] .colab-df-convert {\n",
              "      background-color: #3B4455;\n",
              "      fill: #D2E3FC;\n",
              "    }\n",
              "\n",
              "    [theme=dark] .colab-df-convert:hover {\n",
              "      background-color: #434B5C;\n",
              "      box-shadow: 0px 1px 3px 1px rgba(0, 0, 0, 0.15);\n",
              "      filter: drop-shadow(0px 1px 2px rgba(0, 0, 0, 0.3));\n",
              "      fill: #FFFFFF;\n",
              "    }\n",
              "  </style>\n",
              "\n",
              "      <script>\n",
              "        const buttonEl =\n",
              "          document.querySelector('#df-268a89fe-d186-4830-927e-e061a374284c button.colab-df-convert');\n",
              "        buttonEl.style.display =\n",
              "          google.colab.kernel.accessAllowed ? 'block' : 'none';\n",
              "\n",
              "        async function convertToInteractive(key) {\n",
              "          const element = document.querySelector('#df-268a89fe-d186-4830-927e-e061a374284c');\n",
              "          const dataTable =\n",
              "            await google.colab.kernel.invokeFunction('convertToInteractive',\n",
              "                                                     [key], {});\n",
              "          if (!dataTable) return;\n",
              "\n",
              "          const docLinkHtml = 'Like what you see? Visit the ' +\n",
              "            '<a target=\"_blank\" href=https://colab.research.google.com/notebooks/data_table.ipynb>data table notebook</a>'\n",
              "            + ' to learn more about interactive tables.';\n",
              "          element.innerHTML = '';\n",
              "          dataTable['output_type'] = 'display_data';\n",
              "          await google.colab.output.renderOutput(dataTable, element);\n",
              "          const docLink = document.createElement('div');\n",
              "          docLink.innerHTML = docLinkHtml;\n",
              "          element.appendChild(docLink);\n",
              "        }\n",
              "      </script>\n",
              "    </div>\n",
              "  </div>\n",
              "  "
            ]
          },
          "metadata": {},
          "execution_count": 31
        }
      ],
      "source": [
        "df"
      ]
    },
    {
      "cell_type": "code",
      "execution_count": 32,
      "metadata": {
        "id": "h6Xf1Vmv8IIg"
      },
      "outputs": [],
      "source": [
        "df[\"Gender\"][df[\"Gender\"] == \"Male\"] = 1        ## Assigning Male as 1 and Female as 0\n",
        "df[\"Gender\"][df[\"Gender\"] == \"Female\"] = 0"
      ]
    },
    {
      "cell_type": "code",
      "execution_count": 33,
      "metadata": {
        "id": "LToKzpLO8ICR"
      },
      "outputs": [],
      "source": [
        "df[\"Vehicle_Age\"][df[\"Vehicle_Age\"]==\"< 1 Year\"] = 0     ## Assigning vehicle age less than 1 as 0, between 1-2 as 1 & greater than 2 as 2. \n",
        "df[\"Vehicle_Age\"][df[\"Vehicle_Age\"]==\"1-2 Year\"] = 1\n",
        "df[\"Vehicle_Age\"][df[\"Vehicle_Age\"]==\"> 2 Years\"] = 2"
      ]
    },
    {
      "cell_type": "code",
      "execution_count": 34,
      "metadata": {
        "id": "q_CRfLQb8H_K"
      },
      "outputs": [],
      "source": [
        "df[\"Vehicle_Damage\"][df[\"Vehicle_Damage\"]==\"No\"] = 0    ## Assigning Vehicle damage yes as 1 & no as 0.\n",
        "df[\"Vehicle_Damage\"][df[\"Vehicle_Damage\"]==\"Yes\"] = 1"
      ]
    },
    {
      "cell_type": "markdown",
      "metadata": {
        "id": "KVXT6BA1cXE8"
      },
      "source": [
        "### <font color = ''><b> <span style='color:#0386f7de'>|</span> Splitting data into train & test set <a id=\"prep\"></a></font>"
      ]
    },
    {
      "cell_type": "code",
      "execution_count": 35,
      "metadata": {
        "id": "JZhKv3dC4xWj"
      },
      "outputs": [],
      "source": [
        "X = df.drop(columns = 'Response')    ## Separating response column from the rest features for test and train dataset.\n",
        "y = df[['Response']] "
      ]
    },
    {
      "cell_type": "code",
      "execution_count": 36,
      "metadata": {
        "id": "hVTXlLhpdF-B"
      },
      "outputs": [],
      "source": [
        "X_train,X_test,y_train,y_test = train_test_split(X, y, random_state = 12, stratify = y )  ## Spliting data into train and test."
      ]
    },
    {
      "cell_type": "code",
      "execution_count": 37,
      "metadata": {
        "colab": {
          "base_uri": "https://localhost:8080/",
          "height": 0
        },
        "id": "RHXQVxC5dFS9",
        "outputId": "9279088e-cc7c-4ae8-9a84-9ce6ea6fb4f5"
      },
      "outputs": [
        {
          "output_type": "execute_result",
          "data": {
            "text/plain": [
              "((150000, 10), (50000, 10), (150000, 1), (50000, 1))"
            ]
          },
          "metadata": {},
          "execution_count": 37
        }
      ],
      "source": [
        "X_train.shape,X_test.shape,y_train.shape,y_test.shape   ## Shape of the train and test data."
      ]
    },
    {
      "cell_type": "markdown",
      "metadata": {
        "id": "AkIJB6yhvVIt"
      },
      "source": [
        "## <font color = ''><b>3 <span style='color:#0386f7de'>|</span> Simple Model Building <a id=\"prep\"></a></font>"
      ]
    },
    {
      "cell_type": "markdown",
      "metadata": {
        "id": "wvbw-Pf20x2J"
      },
      "source": [
        "###  <font color = ''><b>3.1 <span style='color:#0386f7de'>|</span> Logistic Regression <a id=\"prep\"></a></font>"
      ]
    },
    {
      "cell_type": "code",
      "execution_count": 38,
      "metadata": {
        "colab": {
          "base_uri": "https://localhost:8080/",
          "height": 0
        },
        "id": "i8sQuSlk8H5Q",
        "outputId": "282c9f5a-6b7d-4aba-82c0-a3ba547c2759"
      },
      "outputs": [
        {
          "output_type": "execute_result",
          "data": {
            "text/plain": [
              "LogisticRegression()"
            ]
          },
          "metadata": {},
          "execution_count": 38
        }
      ],
      "source": [
        "logistic_model = LogisticRegression()    ## Importing Logistic Model. \n",
        "logistic_model.fit(X_train,y_train)"
      ]
    },
    {
      "cell_type": "code",
      "execution_count": 39,
      "metadata": {
        "colab": {
          "base_uri": "https://localhost:8080/",
          "height": 0
        },
        "id": "h3pu9hYA8H2R",
        "outputId": "e062c20d-c178-4cca-ccdc-848118e09d95"
      },
      "outputs": [
        {
          "output_type": "stream",
          "name": "stdout",
          "text": [
            "Intercept = [-0.0116899]\n",
            "coefficients = \n",
            "  [[ 6.17068393e-03 -1.61956109e-04 -1.11111621e-02 -2.87791328e-02\n",
            "  -1.12350062e-01  5.22688861e-02  1.06414160e-01 -8.99834853e-03\n",
            "  -1.30896206e-03 -4.81133854e-06]]\n"
          ]
        }
      ],
      "source": [
        "# Checking the intercept and coefficient values.\n",
        "print(\"Intercept =\" , logistic_model.intercept_)\n",
        "print(\"coefficients = \\n \" , logistic_model.coef_)"
      ]
    },
    {
      "cell_type": "code",
      "execution_count": 40,
      "metadata": {
        "colab": {
          "base_uri": "https://localhost:8080/",
          "height": 0
        },
        "id": "6vFmAO7U8Hza",
        "outputId": "a25a5f94-7d81-486b-d14b-c4648eaa9be3"
      },
      "outputs": [
        {
          "output_type": "stream",
          "name": "stdout",
          "text": [
            "Confusion matrix = \n",
            " [[131599      1]\n",
            " [ 18399      1]]\n",
            "Overall accuracy on train data for all the variables =  0.8773333333333333\n",
            "Accuracy :  0.8773333333333333\n",
            "Sensitivity :  0.9999924012158055\n",
            "Specificity :  5.4347826086956524e-05\n"
          ]
        }
      ],
      "source": [
        "# calculating the Accuracy, Sensitivity, Specificity  of the model on train data\n",
        "\n",
        "predict1 = logistic_model.predict(X_train)\n",
        "cm1 = confusion_matrix(y_train,predict1)\n",
        "print(\"Confusion matrix = \\n\" , cm1)\n",
        "\n",
        "total1 = sum(sum(cm1))\n",
        "Accuracy = (cm1[0,0] + cm1[1,1]) / total1\n",
        "print(\"Overall accuracy on train data for all the variables = \" , Accuracy)\n",
        "print ('Accuracy : ', Accuracy)\n",
        "\n",
        "Sensitivity = cm1[0,0]/(cm1[0,0]+cm1[0,1])\n",
        "print('Sensitivity : ', Sensitivity )\n",
        "\n",
        "Specificity  = cm1[1,1]/(cm1[1,0]+cm1[1,1])\n",
        "print('Specificity : ', Specificity )"
      ]
    },
    {
      "cell_type": "code",
      "execution_count": 41,
      "metadata": {
        "colab": {
          "base_uri": "https://localhost:8080/",
          "height": 0
        },
        "id": "ZEgId9UxgiKs",
        "outputId": "5f4be6ab-b072-4b8f-ec0e-ffce546104a4"
      },
      "outputs": [
        {
          "output_type": "stream",
          "name": "stdout",
          "text": [
            "Confusion matrix = \n",
            " [[43865     1]\n",
            " [ 6134     0]]\n",
            "Overall accuracy on test data for all the variables =  0.8773\n",
            "Accuracy :  0.8773\n",
            "Sensitivity :  0.9999772033009621\n",
            "Specificity :  0.0\n"
          ]
        }
      ],
      "source": [
        "# calculating the Accuracy, Sensitivity, Specificity  of the model on test data\n",
        "\n",
        "predict2 = logistic_model.predict(X_test)\n",
        "cm1 = confusion_matrix(y_test,predict2)\n",
        "print(\"Confusion matrix = \\n\" , cm1)\n",
        "\n",
        "total1 = sum(sum(cm1))\n",
        "Accuracy = (cm1[0,0] + cm1[1,1]) / total1\n",
        "print(\"Overall accuracy on test data for all the variables = \" , Accuracy)\n",
        "print ('Accuracy : ', Accuracy)\n",
        "\n",
        "Sensitivity = cm1[0,0]/(cm1[0,0]+cm1[0,1])\n",
        "print('Sensitivity : ', Sensitivity )\n",
        "\n",
        "Specificity  = cm1[1,1]/(cm1[1,0]+cm1[1,1])\n",
        "print('Specificity : ', Specificity )"
      ]
    },
    {
      "cell_type": "markdown",
      "metadata": {
        "id": "AytteiN2ZIQY"
      },
      "source": [
        "###  <font color = ''><b>3.2 <span style='color:#0386f7de'>|</span> Decision Tree <a id=\"prep\"></a></font>"
      ]
    },
    {
      "cell_type": "code",
      "execution_count": 142,
      "metadata": {
        "colab": {
          "base_uri": "https://localhost:8080/",
          "height": 0
        },
        "id": "_3ObvQbL8HrH",
        "outputId": "ded9d745-ca53-47a5-b40c-271037bf6057"
      },
      "outputs": [
        {
          "output_type": "execute_result",
          "data": {
            "text/plain": [
              "DecisionTreeClassifier(max_depth=12, random_state=12)"
            ]
          },
          "metadata": {},
          "execution_count": 142
        }
      ],
      "source": [
        "dt_model = DecisionTreeClassifier(random_state=12,max_depth=12)   ## Importing Decision Tree Model.\n",
        "dt_model.fit(X_train,y_train)"
      ]
    },
    {
      "cell_type": "code",
      "execution_count": 143,
      "metadata": {
        "colab": {
          "base_uri": "https://localhost:8080/",
          "height": 0
        },
        "id": "9Wu0RFzB8Hoe",
        "outputId": "7284e580-6726-4e84-a92a-c2dc131cb3b2"
      },
      "outputs": [
        {
          "output_type": "stream",
          "name": "stdout",
          "text": [
            "CM: [[131410    190]\n",
            " [ 17594    806]]\n",
            "Train Accuracy 0.88144\n",
            "Test Accuracy 0.87384\n",
            "Sensitivity :  0.9985562310030395\n",
            "Specificity :  0.043804347826086956\n"
          ]
        }
      ],
      "source": [
        "predict1 = dt_model.predict(X_train)\n",
        "predict2 = dt_model.predict(X_test)\n",
        "\n",
        "cm = confusion_matrix(y_train, predict1)     ## Confusion Matrix for Decision Tree Model.\n",
        "print (\"CM:\",   cm)\n",
        "\n",
        "#On Train Data\n",
        "cm1 = confusion_matrix(y_train,predict1)\n",
        "total1 = sum(sum(cm1))\n",
        "accuracy1 = (cm1[0,0]+cm1[1,1])/total1      \n",
        "print(\"Train Accuracy\", accuracy1)\n",
        "\n",
        "#On Test Data\n",
        "cm2 = confusion_matrix(y_test,predict2)\n",
        "total2 = sum(sum(cm2))\n",
        "accuracy2 = (cm2[0,0]+cm2[1,1])/total2\n",
        "print(\"Test Accuracy\", accuracy2)\n",
        "\n",
        "Sensitivity = cm1[0,0]/(cm1[0,0]+cm1[0,1])\n",
        "print('Sensitivity : ', Sensitivity )\n",
        "\n",
        "Specificity  = cm1[1,1]/(cm1[1,0]+cm1[1,1])\n",
        "print('Specificity : ', Specificity )"
      ]
    },
    {
      "cell_type": "markdown",
      "metadata": {
        "id": "1Y6SoUWbLLJf"
      },
      "source": [
        "##  <font color = ''><b>4<span style='color:#0386f7de'>|</span> Feature Engineering <a id=\"prep\"></a></font>"
      ]
    },
    {
      "cell_type": "markdown",
      "metadata": {
        "id": "d0H2KZyJQRw0"
      },
      "source": [
        "###  <font color = ''><b>4.1 <span style='color:#0386f7de'>|</span> One Hot Encoding  <a id=\"prep\"></a></font>"
      ]
    },
    {
      "cell_type": "code",
      "execution_count": 44,
      "metadata": {
        "id": "WyRgTZK48HZZ"
      },
      "outputs": [],
      "source": [
        "df_1 = data.copy()"
      ]
    },
    {
      "cell_type": "code",
      "execution_count": 46,
      "metadata": {
        "id": "nVU-nR25lq0d"
      },
      "outputs": [],
      "source": [
        "cat_col = ['Vehicle_Age']\n",
        "cat_cols = ['Gender','Vehicle_Damage']"
      ]
    },
    {
      "cell_type": "code",
      "execution_count": 47,
      "metadata": {
        "id": "16aW1g5Clqxo"
      },
      "outputs": [],
      "source": [
        "df_encc = pd.get_dummies(df_1[cat_cols], drop_first = True)    \n",
        "df_enc = pd.get_dummies(df_1[cat_col]) "
      ]
    },
    {
      "cell_type": "code",
      "execution_count": 48,
      "metadata": {
        "id": "dS0dwAigjKFR"
      },
      "outputs": [],
      "source": [
        "df_1[df_encc.columns] = df_encc\n",
        "df_1[df_enc.columns] = df_enc"
      ]
    },
    {
      "cell_type": "code",
      "execution_count": 49,
      "metadata": {
        "id": "SD0JvFtBlqsZ"
      },
      "outputs": [],
      "source": [
        "df_1.drop(['Gender','Vehicle_Damage','Vehicle_Age'],axis =1, inplace = True)   "
      ]
    },
    {
      "cell_type": "code",
      "execution_count": 50,
      "metadata": {
        "colab": {
          "base_uri": "https://localhost:8080/",
          "height": 505
        },
        "id": "rDKaNGgelqpd",
        "outputId": "ccb7e805-a039-42e2-c2d4-273330440be0"
      },
      "outputs": [
        {
          "output_type": "execute_result",
          "data": {
            "text/plain": [
              "        Age  Driving_License  Region_Code  Previously_Insured  \\\n",
              "0        44                1           28                   0   \n",
              "1        76                1            3                   0   \n",
              "2        47                1           28                   0   \n",
              "3        21                1           11                   1   \n",
              "4        29                1           41                   1   \n",
              "...     ...              ...          ...                 ...   \n",
              "199995   24                1            2                   0   \n",
              "199996   23                1           39                   0   \n",
              "199997   52                1           29                   0   \n",
              "199998   20                1           36                   1   \n",
              "199999   35                1           46                   1   \n",
              "\n",
              "        Policy_Sales_Channel  Vintage  Response  Annual_Premium_New  \\\n",
              "0                         26      217         1               40454   \n",
              "1                         26      183         0               33536   \n",
              "2                         26       27         1               38294   \n",
              "3                        152      203         0               28619   \n",
              "4                        152       39         0               27496   \n",
              "...                      ...      ...       ...                 ...   \n",
              "199995                   152       73         0               18654   \n",
              "199996                    26       40         0               49472   \n",
              "199997                    26      233         1               36164   \n",
              "199998                   160      180         0               37336   \n",
              "199999                   152       10         0                2630   \n",
              "\n",
              "        Gender_Male  Vehicle_Damage_Yes  Vehicle_Age_1-2 Year  \\\n",
              "0                 1                   1                     0   \n",
              "1                 1                   0                     1   \n",
              "2                 1                   1                     0   \n",
              "3                 1                   0                     0   \n",
              "4                 0                   0                     0   \n",
              "...             ...                 ...                   ...   \n",
              "199995            0                   1                     0   \n",
              "199996            0                   1                     0   \n",
              "199997            1                   1                     1   \n",
              "199998            0                   0                     0   \n",
              "199999            0                   0                     1   \n",
              "\n",
              "        Vehicle_Age_< 1 Year  Vehicle_Age_> 2 Years  \n",
              "0                          0                      1  \n",
              "1                          0                      0  \n",
              "2                          0                      1  \n",
              "3                          1                      0  \n",
              "4                          1                      0  \n",
              "...                      ...                    ...  \n",
              "199995                     1                      0  \n",
              "199996                     1                      0  \n",
              "199997                     0                      0  \n",
              "199998                     1                      0  \n",
              "199999                     0                      0  \n",
              "\n",
              "[200000 rows x 13 columns]"
            ],
            "text/html": [
              "\n",
              "  <div id=\"df-fbd2a9f1-eaa8-4f69-b163-184efdf5e18a\">\n",
              "    <div class=\"colab-df-container\">\n",
              "      <div>\n",
              "<style scoped>\n",
              "    .dataframe tbody tr th:only-of-type {\n",
              "        vertical-align: middle;\n",
              "    }\n",
              "\n",
              "    .dataframe tbody tr th {\n",
              "        vertical-align: top;\n",
              "    }\n",
              "\n",
              "    .dataframe thead th {\n",
              "        text-align: right;\n",
              "    }\n",
              "</style>\n",
              "<table border=\"1\" class=\"dataframe\">\n",
              "  <thead>\n",
              "    <tr style=\"text-align: right;\">\n",
              "      <th></th>\n",
              "      <th>Age</th>\n",
              "      <th>Driving_License</th>\n",
              "      <th>Region_Code</th>\n",
              "      <th>Previously_Insured</th>\n",
              "      <th>Policy_Sales_Channel</th>\n",
              "      <th>Vintage</th>\n",
              "      <th>Response</th>\n",
              "      <th>Annual_Premium_New</th>\n",
              "      <th>Gender_Male</th>\n",
              "      <th>Vehicle_Damage_Yes</th>\n",
              "      <th>Vehicle_Age_1-2 Year</th>\n",
              "      <th>Vehicle_Age_&lt; 1 Year</th>\n",
              "      <th>Vehicle_Age_&gt; 2 Years</th>\n",
              "    </tr>\n",
              "  </thead>\n",
              "  <tbody>\n",
              "    <tr>\n",
              "      <th>0</th>\n",
              "      <td>44</td>\n",
              "      <td>1</td>\n",
              "      <td>28</td>\n",
              "      <td>0</td>\n",
              "      <td>26</td>\n",
              "      <td>217</td>\n",
              "      <td>1</td>\n",
              "      <td>40454</td>\n",
              "      <td>1</td>\n",
              "      <td>1</td>\n",
              "      <td>0</td>\n",
              "      <td>0</td>\n",
              "      <td>1</td>\n",
              "    </tr>\n",
              "    <tr>\n",
              "      <th>1</th>\n",
              "      <td>76</td>\n",
              "      <td>1</td>\n",
              "      <td>3</td>\n",
              "      <td>0</td>\n",
              "      <td>26</td>\n",
              "      <td>183</td>\n",
              "      <td>0</td>\n",
              "      <td>33536</td>\n",
              "      <td>1</td>\n",
              "      <td>0</td>\n",
              "      <td>1</td>\n",
              "      <td>0</td>\n",
              "      <td>0</td>\n",
              "    </tr>\n",
              "    <tr>\n",
              "      <th>2</th>\n",
              "      <td>47</td>\n",
              "      <td>1</td>\n",
              "      <td>28</td>\n",
              "      <td>0</td>\n",
              "      <td>26</td>\n",
              "      <td>27</td>\n",
              "      <td>1</td>\n",
              "      <td>38294</td>\n",
              "      <td>1</td>\n",
              "      <td>1</td>\n",
              "      <td>0</td>\n",
              "      <td>0</td>\n",
              "      <td>1</td>\n",
              "    </tr>\n",
              "    <tr>\n",
              "      <th>3</th>\n",
              "      <td>21</td>\n",
              "      <td>1</td>\n",
              "      <td>11</td>\n",
              "      <td>1</td>\n",
              "      <td>152</td>\n",
              "      <td>203</td>\n",
              "      <td>0</td>\n",
              "      <td>28619</td>\n",
              "      <td>1</td>\n",
              "      <td>0</td>\n",
              "      <td>0</td>\n",
              "      <td>1</td>\n",
              "      <td>0</td>\n",
              "    </tr>\n",
              "    <tr>\n",
              "      <th>4</th>\n",
              "      <td>29</td>\n",
              "      <td>1</td>\n",
              "      <td>41</td>\n",
              "      <td>1</td>\n",
              "      <td>152</td>\n",
              "      <td>39</td>\n",
              "      <td>0</td>\n",
              "      <td>27496</td>\n",
              "      <td>0</td>\n",
              "      <td>0</td>\n",
              "      <td>0</td>\n",
              "      <td>1</td>\n",
              "      <td>0</td>\n",
              "    </tr>\n",
              "    <tr>\n",
              "      <th>...</th>\n",
              "      <td>...</td>\n",
              "      <td>...</td>\n",
              "      <td>...</td>\n",
              "      <td>...</td>\n",
              "      <td>...</td>\n",
              "      <td>...</td>\n",
              "      <td>...</td>\n",
              "      <td>...</td>\n",
              "      <td>...</td>\n",
              "      <td>...</td>\n",
              "      <td>...</td>\n",
              "      <td>...</td>\n",
              "      <td>...</td>\n",
              "    </tr>\n",
              "    <tr>\n",
              "      <th>199995</th>\n",
              "      <td>24</td>\n",
              "      <td>1</td>\n",
              "      <td>2</td>\n",
              "      <td>0</td>\n",
              "      <td>152</td>\n",
              "      <td>73</td>\n",
              "      <td>0</td>\n",
              "      <td>18654</td>\n",
              "      <td>0</td>\n",
              "      <td>1</td>\n",
              "      <td>0</td>\n",
              "      <td>1</td>\n",
              "      <td>0</td>\n",
              "    </tr>\n",
              "    <tr>\n",
              "      <th>199996</th>\n",
              "      <td>23</td>\n",
              "      <td>1</td>\n",
              "      <td>39</td>\n",
              "      <td>0</td>\n",
              "      <td>26</td>\n",
              "      <td>40</td>\n",
              "      <td>0</td>\n",
              "      <td>49472</td>\n",
              "      <td>0</td>\n",
              "      <td>1</td>\n",
              "      <td>0</td>\n",
              "      <td>1</td>\n",
              "      <td>0</td>\n",
              "    </tr>\n",
              "    <tr>\n",
              "      <th>199997</th>\n",
              "      <td>52</td>\n",
              "      <td>1</td>\n",
              "      <td>29</td>\n",
              "      <td>0</td>\n",
              "      <td>26</td>\n",
              "      <td>233</td>\n",
              "      <td>1</td>\n",
              "      <td>36164</td>\n",
              "      <td>1</td>\n",
              "      <td>1</td>\n",
              "      <td>1</td>\n",
              "      <td>0</td>\n",
              "      <td>0</td>\n",
              "    </tr>\n",
              "    <tr>\n",
              "      <th>199998</th>\n",
              "      <td>20</td>\n",
              "      <td>1</td>\n",
              "      <td>36</td>\n",
              "      <td>1</td>\n",
              "      <td>160</td>\n",
              "      <td>180</td>\n",
              "      <td>0</td>\n",
              "      <td>37336</td>\n",
              "      <td>0</td>\n",
              "      <td>0</td>\n",
              "      <td>0</td>\n",
              "      <td>1</td>\n",
              "      <td>0</td>\n",
              "    </tr>\n",
              "    <tr>\n",
              "      <th>199999</th>\n",
              "      <td>35</td>\n",
              "      <td>1</td>\n",
              "      <td>46</td>\n",
              "      <td>1</td>\n",
              "      <td>152</td>\n",
              "      <td>10</td>\n",
              "      <td>0</td>\n",
              "      <td>2630</td>\n",
              "      <td>0</td>\n",
              "      <td>0</td>\n",
              "      <td>1</td>\n",
              "      <td>0</td>\n",
              "      <td>0</td>\n",
              "    </tr>\n",
              "  </tbody>\n",
              "</table>\n",
              "<p>200000 rows × 13 columns</p>\n",
              "</div>\n",
              "      <button class=\"colab-df-convert\" onclick=\"convertToInteractive('df-fbd2a9f1-eaa8-4f69-b163-184efdf5e18a')\"\n",
              "              title=\"Convert this dataframe to an interactive table.\"\n",
              "              style=\"display:none;\">\n",
              "        \n",
              "  <svg xmlns=\"http://www.w3.org/2000/svg\" height=\"24px\"viewBox=\"0 0 24 24\"\n",
              "       width=\"24px\">\n",
              "    <path d=\"M0 0h24v24H0V0z\" fill=\"none\"/>\n",
              "    <path d=\"M18.56 5.44l.94 2.06.94-2.06 2.06-.94-2.06-.94-.94-2.06-.94 2.06-2.06.94zm-11 1L8.5 8.5l.94-2.06 2.06-.94-2.06-.94L8.5 2.5l-.94 2.06-2.06.94zm10 10l.94 2.06.94-2.06 2.06-.94-2.06-.94-.94-2.06-.94 2.06-2.06.94z\"/><path d=\"M17.41 7.96l-1.37-1.37c-.4-.4-.92-.59-1.43-.59-.52 0-1.04.2-1.43.59L10.3 9.45l-7.72 7.72c-.78.78-.78 2.05 0 2.83L4 21.41c.39.39.9.59 1.41.59.51 0 1.02-.2 1.41-.59l7.78-7.78 2.81-2.81c.8-.78.8-2.07 0-2.86zM5.41 20L4 18.59l7.72-7.72 1.47 1.35L5.41 20z\"/>\n",
              "  </svg>\n",
              "      </button>\n",
              "      \n",
              "  <style>\n",
              "    .colab-df-container {\n",
              "      display:flex;\n",
              "      flex-wrap:wrap;\n",
              "      gap: 12px;\n",
              "    }\n",
              "\n",
              "    .colab-df-convert {\n",
              "      background-color: #E8F0FE;\n",
              "      border: none;\n",
              "      border-radius: 50%;\n",
              "      cursor: pointer;\n",
              "      display: none;\n",
              "      fill: #1967D2;\n",
              "      height: 32px;\n",
              "      padding: 0 0 0 0;\n",
              "      width: 32px;\n",
              "    }\n",
              "\n",
              "    .colab-df-convert:hover {\n",
              "      background-color: #E2EBFA;\n",
              "      box-shadow: 0px 1px 2px rgba(60, 64, 67, 0.3), 0px 1px 3px 1px rgba(60, 64, 67, 0.15);\n",
              "      fill: #174EA6;\n",
              "    }\n",
              "\n",
              "    [theme=dark] .colab-df-convert {\n",
              "      background-color: #3B4455;\n",
              "      fill: #D2E3FC;\n",
              "    }\n",
              "\n",
              "    [theme=dark] .colab-df-convert:hover {\n",
              "      background-color: #434B5C;\n",
              "      box-shadow: 0px 1px 3px 1px rgba(0, 0, 0, 0.15);\n",
              "      filter: drop-shadow(0px 1px 2px rgba(0, 0, 0, 0.3));\n",
              "      fill: #FFFFFF;\n",
              "    }\n",
              "  </style>\n",
              "\n",
              "      <script>\n",
              "        const buttonEl =\n",
              "          document.querySelector('#df-fbd2a9f1-eaa8-4f69-b163-184efdf5e18a button.colab-df-convert');\n",
              "        buttonEl.style.display =\n",
              "          google.colab.kernel.accessAllowed ? 'block' : 'none';\n",
              "\n",
              "        async function convertToInteractive(key) {\n",
              "          const element = document.querySelector('#df-fbd2a9f1-eaa8-4f69-b163-184efdf5e18a');\n",
              "          const dataTable =\n",
              "            await google.colab.kernel.invokeFunction('convertToInteractive',\n",
              "                                                     [key], {});\n",
              "          if (!dataTable) return;\n",
              "\n",
              "          const docLinkHtml = 'Like what you see? Visit the ' +\n",
              "            '<a target=\"_blank\" href=https://colab.research.google.com/notebooks/data_table.ipynb>data table notebook</a>'\n",
              "            + ' to learn more about interactive tables.';\n",
              "          element.innerHTML = '';\n",
              "          dataTable['output_type'] = 'display_data';\n",
              "          await google.colab.output.renderOutput(dataTable, element);\n",
              "          const docLink = document.createElement('div');\n",
              "          docLink.innerHTML = docLinkHtml;\n",
              "          element.appendChild(docLink);\n",
              "        }\n",
              "      </script>\n",
              "    </div>\n",
              "  </div>\n",
              "  "
            ]
          },
          "metadata": {},
          "execution_count": 50
        }
      ],
      "source": [
        "df_1"
      ]
    },
    {
      "cell_type": "code",
      "source": [
        "df_1.rename(columns = {'Vehicle_Age_1-2 Year':'Veh_age_1-2yr',\n",
        "                       'Vehicle_Age_< 1 Year': 'Veh_age_lessthan_1yr',               ## Changing Column Names\n",
        "                       'Vehicle_Age_> 2 Years':'Veh_age_greathan_2yr'}, inplace =True)"
      ],
      "metadata": {
        "id": "GId5vuKElMCr"
      },
      "execution_count": 51,
      "outputs": []
    },
    {
      "cell_type": "markdown",
      "metadata": {
        "id": "i_z1U5J4ml4M"
      },
      "source": [
        "###  <font color = ''><b>4.2 <span style='color:#0386f7de'>|</span> Over Sampling <a id=\"prep\"></a></font>"
      ]
    },
    {
      "cell_type": "code",
      "execution_count": 52,
      "metadata": {
        "colab": {
          "base_uri": "https://localhost:8080/",
          "height": 0
        },
        "id": "dqGJl51Pl_-a",
        "outputId": "a4a0392c-1358-4aa1-f5e4-783722c82018"
      },
      "outputs": [
        {
          "output_type": "stream",
          "name": "stdout",
          "text": [
            "Actual Data : (200000, 13)\n",
            "0    175466\n",
            "1     24534\n",
            "Name: Response, dtype: int64\n",
            "0    87.733\n",
            "1    12.267\n",
            "Name: Response, dtype: float64\n",
            "Class0 Actual : (175466, 13)\n",
            "Class1 Actual  : (24534, 13)\n"
          ]
        }
      ],
      "source": [
        "print(\"Actual Data :\", df_1.shape)\n",
        "\n",
        "#Frequency count on target column\n",
        "freq = df_1['Response'].value_counts()\n",
        "print(freq)\n",
        "print((freq/freq.sum())*100)\n",
        "\n",
        "#Classwise data\n",
        "Response_class0 = df_1[df_1['Response'] == 0]\n",
        "Response_class1 = df_1[df_1['Response'] == 1]\n",
        "\n",
        "print(\"Class0 Actual :\", Response_class0.shape)\n",
        "print(\"Class1 Actual  :\", Response_class1.shape)"
      ]
    },
    {
      "cell_type": "code",
      "execution_count": 111,
      "metadata": {
        "colab": {
          "base_uri": "https://localhost:8080/",
          "height": 0
        },
        "id": "4ttBZvf4l_7w",
        "outputId": "eccb9f5c-b0ed-43f6-f241-a3845972992b"
      },
      "outputs": [
        {
          "output_type": "stream",
          "name": "stdout",
          "text": [
            "Class0 Undersample : (105279, 13)\n",
            "Class1 Oversample : (98136, 13)\n",
            "Final Balannced Data : (203415, 13)\n",
            "0    105279\n",
            "1     98136\n",
            "Name: Response, dtype: int64\n",
            "0    51.75577\n",
            "1    48.24423\n",
            "Name: Response, dtype: float64\n"
          ]
        }
      ],
      "source": [
        "##Undersampling of class-0\n",
        "## Consider half of class-0\n",
        "Response_class0_under = Response_class0.sample(int(0.6*len(Response_class0)))\n",
        "print(\"Class0 Undersample :\", Response_class0_under.shape)\n",
        "\n",
        "##Oversampling of Class-1 \n",
        "# Lets increase the size by four times\n",
        "Response_class1_over = Response_class1.sample(4*len(Response_class1),replace=True)\n",
        "print(\"Class1 Oversample :\", Response_class1_over.shape)\n",
        "\n",
        "#Concatenate to create the final balanced data\n",
        "Response_balanced=pd.concat([Response_class0_under,Response_class1_over])\n",
        "print(\"Final Balannced Data :\", Response_balanced.shape)\n",
        "\n",
        "#Frequency count on target column in the balanced data\n",
        "freq = Response_balanced['Response'].value_counts()\n",
        "print(freq)\n",
        "print((freq/freq.sum())*100)"
      ]
    },
    {
      "cell_type": "code",
      "execution_count": 84,
      "metadata": {
        "colab": {
          "base_uri": "https://localhost:8080/",
          "height": 303
        },
        "id": "e7xsAK8yl_5P",
        "outputId": "3a212eb5-fcea-4c28-f359-9e88ccd87e43"
      },
      "outputs": [
        {
          "output_type": "display_data",
          "data": {
            "text/plain": [
              "<Figure size 576x360 with 1 Axes>"
            ],
            "image/png": "[encoded data removed]"
          },
          "metadata": {}
        }
      ],
      "source": [
        "plt.figure(figsize=(8,5))            ## Balanced Response.\n",
        "plt.pie(x=Response_balanced['Response'].value_counts() ,autopct=\"%1.0f%%\",explode=(0.05,0),labels=[\"Yes\",\"No\"])\n",
        "plt.show()"
      ]
    },
    {
      "cell_type": "markdown",
      "metadata": {
        "id": "5D_iS22MStJn"
      },
      "source": [
        "###  <font color = ''><b>4.3 <span style='color:#0386f7de'>|</span> Correlation Matrix  <a id=\"prep\"></a></font>"
      ]
    },
    {
      "cell_type": "code",
      "execution_count": 112,
      "metadata": {
        "id": "boaIgA9Ol_zr"
      },
      "outputs": [],
      "source": [
        "df_2 = Response_balanced.copy()"
      ]
    },
    {
      "cell_type": "code",
      "execution_count": 113,
      "metadata": {
        "colab": {
          "base_uri": "https://localhost:8080/",
          "height": 538
        },
        "id": "kiR2DGr9l_va",
        "outputId": "cfabdc49-34e5-4e0c-d843-1fb7d96654ad"
      },
      "outputs": [
        {
          "output_type": "execute_result",
          "data": {
            "text/plain": [
              "                           Age  Driving_License  Region_Code  \\\n",
              "Age                   1.000000        -0.066360     0.034080   \n",
              "Driving_License      -0.066360         1.000000     0.000113   \n",
              "Region_Code           0.034080         0.000113     1.000000   \n",
              "Previously_Insured   -0.261627         0.001314    -0.025257   \n",
              "Policy_Sales_Channel -0.521302         0.029598    -0.035966   \n",
              "Vintage              -0.002799         0.000854    -0.001748   \n",
              "Response              0.182930         0.020060     0.017529   \n",
              "Annual_Premium_New    0.045643        -0.007418     0.005843   \n",
              "Gender_Male           0.131428        -0.013861    -0.006944   \n",
              "Vehicle_Damage_Yes    0.273429        -0.002529     0.028318   \n",
              "Veh_age_1-2yr         0.580915        -0.024096     0.031253   \n",
              "Veh_age_lessthan_1yr -0.735845         0.027425    -0.040021   \n",
              "Veh_age_greathan_2yr  0.243848        -0.004291     0.013932   \n",
              "\n",
              "                      Previously_Insured  Policy_Sales_Channel   Vintage  \\\n",
              "Age                            -0.261627             -0.521302 -0.002799   \n",
              "Driving_License                 0.001314              0.029598  0.000854   \n",
              "Region_Code                    -0.025257             -0.035966 -0.001748   \n",
              "Previously_Insured              1.000000              0.234913  0.002567   \n",
              "Policy_Sales_Channel            0.234913              1.000000  0.000870   \n",
              "Vintage                         0.002567              0.000870  1.000000   \n",
              "Response                       -0.581972             -0.210057 -0.003434   \n",
              "Annual_Premium_New              0.013043             -0.128926 -0.001686   \n",
              "Gender_Male                    -0.087042             -0.089674  0.000564   \n",
              "Vehicle_Damage_Yes             -0.853200             -0.243744 -0.000873   \n",
              "Veh_age_1-2yr                  -0.304452             -0.381701  0.000011   \n",
              "Veh_age_lessthan_1yr            0.403503              0.498537 -0.001045   \n",
              "Veh_age_greathan_2yr           -0.161369             -0.188496  0.001943   \n",
              "\n",
              "                      Response  Annual_Premium_New  Gender_Male  \\\n",
              "Age                   0.182930            0.045643     0.131428   \n",
              "Driving_License       0.020060           -0.007418    -0.013861   \n",
              "Region_Code           0.017529            0.005843    -0.006944   \n",
              "Previously_Insured   -0.581972            0.013043    -0.087042   \n",
              "Policy_Sales_Channel -0.210057           -0.128926    -0.089674   \n",
              "Vintage              -0.003434           -0.001686     0.000564   \n",
              "Response              1.000000            0.017602     0.078008   \n",
              "Annual_Premium_New    0.017602            1.000000    -0.000858   \n",
              "Gender_Male           0.078008           -0.000858     1.000000   \n",
              "Vehicle_Damage_Yes    0.589136            0.003604     0.094131   \n",
              "Veh_age_1-2yr         0.259603           -0.030330     0.111268   \n",
              "Veh_age_lessthan_1yr -0.343275           -0.001894    -0.141147   \n",
              "Veh_age_greathan_2yr  0.136115            0.063070     0.047090   \n",
              "\n",
              "                      Vehicle_Damage_Yes  Veh_age_1-2yr  Veh_age_lessthan_1yr  \\\n",
              "Age                             0.273429       0.580915             -0.735845   \n",
              "Driving_License                -0.002529      -0.024096              0.027425   \n",
              "Region_Code                     0.028318       0.031253             -0.040021   \n",
              "Previously_Insured             -0.853200      -0.304452              0.403503   \n",
              "Policy_Sales_Channel           -0.243744      -0.381701              0.498537   \n",
              "Vintage                        -0.000873       0.000011             -0.001045   \n",
              "Response                        0.589136       0.259603             -0.343275   \n",
              "Annual_Premium_New              0.003604      -0.030330             -0.001894   \n",
              "Gender_Male                     0.094131       0.111268             -0.141147   \n",
              "Vehicle_Damage_Yes              1.000000       0.307323             -0.413159   \n",
              "Veh_age_1-2yr                   0.307323       1.000000             -0.865374   \n",
              "Veh_age_lessthan_1yr           -0.413159      -0.865374              1.000000   \n",
              "Veh_age_greathan_2yr            0.173893      -0.334851             -0.182425   \n",
              "\n",
              "                      Veh_age_greathan_2yr  \n",
              "Age                               0.243848  \n",
              "Driving_License                  -0.004291  \n",
              "Region_Code                       0.013932  \n",
              "Previously_Insured               -0.161369  \n",
              "Policy_Sales_Channel             -0.188496  \n",
              "Vintage                           0.001943  \n",
              "Response                          0.136115  \n",
              "Annual_Premium_New                0.063070  \n",
              "Gender_Male                       0.047090  \n",
              "Vehicle_Damage_Yes                0.173893  \n",
              "Veh_age_1-2yr                    -0.334851  \n",
              "Veh_age_lessthan_1yr             -0.182425  \n",
              "Veh_age_greathan_2yr              1.000000  "
            ],
            "text/html": [
              "\n",
              "  <div id=\"df-b36fbcb4-f3cc-4a4c-a560-8fd65d419c77\">\n",
              "    <div class=\"colab-df-container\">\n",
              "      <div>\n",
              "<style scoped>\n",
              "    .dataframe tbody tr th:only-of-type {\n",
              "        vertical-align: middle;\n",
              "    }\n",
              "\n",
              "    .dataframe tbody tr th {\n",
              "        vertical-align: top;\n",
              "    }\n",
              "\n",
              "    .dataframe thead th {\n",
              "        text-align: right;\n",
              "    }\n",
              "</style>\n",
              "<table border=\"1\" class=\"dataframe\">\n",
              "  <thead>\n",
              "    <tr style=\"text-align: right;\">\n",
              "      <th></th>\n",
              "      <th>Age</th>\n",
              "      <th>Driving_License</th>\n",
              "      <th>Region_Code</th>\n",
              "      <th>Previously_Insured</th>\n",
              "      <th>Policy_Sales_Channel</th>\n",
              "      <th>Vintage</th>\n",
              "      <th>Response</th>\n",
              "      <th>Annual_Premium_New</th>\n",
              "      <th>Gender_Male</th>\n",
              "      <th>Vehicle_Damage_Yes</th>\n",
              "      <th>Veh_age_1-2yr</th>\n",
              "      <th>Veh_age_lessthan_1yr</th>\n",
              "      <th>Veh_age_greathan_2yr</th>\n",
              "    </tr>\n",
              "  </thead>\n",
              "  <tbody>\n",
              "    <tr>\n",
              "      <th>Age</th>\n",
              "      <td>1.000000</td>\n",
              "      <td>-0.066360</td>\n",
              "      <td>0.034080</td>\n",
              "      <td>-0.261627</td>\n",
              "      <td>-0.521302</td>\n",
              "      <td>-0.002799</td>\n",
              "      <td>0.182930</td>\n",
              "      <td>0.045643</td>\n",
              "      <td>0.131428</td>\n",
              "      <td>0.273429</td>\n",
              "      <td>0.580915</td>\n",
              "      <td>-0.735845</td>\n",
              "      <td>0.243848</td>\n",
              "    </tr>\n",
              "    <tr>\n",
              "      <th>Driving_License</th>\n",
              "      <td>-0.066360</td>\n",
              "      <td>1.000000</td>\n",
              "      <td>0.000113</td>\n",
              "      <td>0.001314</td>\n",
              "      <td>0.029598</td>\n",
              "      <td>0.000854</td>\n",
              "      <td>0.020060</td>\n",
              "      <td>-0.007418</td>\n",
              "      <td>-0.013861</td>\n",
              "      <td>-0.002529</td>\n",
              "      <td>-0.024096</td>\n",
              "      <td>0.027425</td>\n",
              "      <td>-0.004291</td>\n",
              "    </tr>\n",
              "    <tr>\n",
              "      <th>Region_Code</th>\n",
              "      <td>0.034080</td>\n",
              "      <td>0.000113</td>\n",
              "      <td>1.000000</td>\n",
              "      <td>-0.025257</td>\n",
              "      <td>-0.035966</td>\n",
              "      <td>-0.001748</td>\n",
              "      <td>0.017529</td>\n",
              "      <td>0.005843</td>\n",
              "      <td>-0.006944</td>\n",
              "      <td>0.028318</td>\n",
              "      <td>0.031253</td>\n",
              "      <td>-0.040021</td>\n",
              "      <td>0.013932</td>\n",
              "    </tr>\n",
              "    <tr>\n",
              "      <th>Previously_Insured</th>\n",
              "      <td>-0.261627</td>\n",
              "      <td>0.001314</td>\n",
              "      <td>-0.025257</td>\n",
              "      <td>1.000000</td>\n",
              "      <td>0.234913</td>\n",
              "      <td>0.002567</td>\n",
              "      <td>-0.581972</td>\n",
              "      <td>0.013043</td>\n",
              "      <td>-0.087042</td>\n",
              "      <td>-0.853200</td>\n",
              "      <td>-0.304452</td>\n",
              "      <td>0.403503</td>\n",
              "      <td>-0.161369</td>\n",
              "    </tr>\n",
              "    <tr>\n",
              "      <th>Policy_Sales_Channel</th>\n",
              "      <td>-0.521302</td>\n",
              "      <td>0.029598</td>\n",
              "      <td>-0.035966</td>\n",
              "      <td>0.234913</td>\n",
              "      <td>1.000000</td>\n",
              "      <td>0.000870</td>\n",
              "      <td>-0.210057</td>\n",
              "      <td>-0.128926</td>\n",
              "      <td>-0.089674</td>\n",
              "      <td>-0.243744</td>\n",
              "      <td>-0.381701</td>\n",
              "      <td>0.498537</td>\n",
              "      <td>-0.188496</td>\n",
              "    </tr>\n",
              "    <tr>\n",
              "      <th>Vintage</th>\n",
              "      <td>-0.002799</td>\n",
              "      <td>0.000854</td>\n",
              "      <td>-0.001748</td>\n",
              "      <td>0.002567</td>\n",
              "      <td>0.000870</td>\n",
              "      <td>1.000000</td>\n",
              "      <td>-0.003434</td>\n",
              "      <td>-0.001686</td>\n",
              "      <td>0.000564</td>\n",
              "      <td>-0.000873</td>\n",
              "      <td>0.000011</td>\n",
              "      <td>-0.001045</td>\n",
              "      <td>0.001943</td>\n",
              "    </tr>\n",
              "    <tr>\n",
              "      <th>Response</th>\n",
              "      <td>0.182930</td>\n",
              "      <td>0.020060</td>\n",
              "      <td>0.017529</td>\n",
              "      <td>-0.581972</td>\n",
              "      <td>-0.210057</td>\n",
              "      <td>-0.003434</td>\n",
              "      <td>1.000000</td>\n",
              "      <td>0.017602</td>\n",
              "      <td>0.078008</td>\n",
              "      <td>0.589136</td>\n",
              "      <td>0.259603</td>\n",
              "      <td>-0.343275</td>\n",
              "      <td>0.136115</td>\n",
              "    </tr>\n",
              "    <tr>\n",
              "      <th>Annual_Premium_New</th>\n",
              "      <td>0.045643</td>\n",
              "      <td>-0.007418</td>\n",
              "      <td>0.005843</td>\n",
              "      <td>0.013043</td>\n",
              "      <td>-0.128926</td>\n",
              "      <td>-0.001686</td>\n",
              "      <td>0.017602</td>\n",
              "      <td>1.000000</td>\n",
              "      <td>-0.000858</td>\n",
              "      <td>0.003604</td>\n",
              "      <td>-0.030330</td>\n",
              "      <td>-0.001894</td>\n",
              "      <td>0.063070</td>\n",
              "    </tr>\n",
              "    <tr>\n",
              "      <th>Gender_Male</th>\n",
              "      <td>0.131428</td>\n",
              "      <td>-0.013861</td>\n",
              "      <td>-0.006944</td>\n",
              "      <td>-0.087042</td>\n",
              "      <td>-0.089674</td>\n",
              "      <td>0.000564</td>\n",
              "      <td>0.078008</td>\n",
              "      <td>-0.000858</td>\n",
              "      <td>1.000000</td>\n",
              "      <td>0.094131</td>\n",
              "      <td>0.111268</td>\n",
              "      <td>-0.141147</td>\n",
              "      <td>0.047090</td>\n",
              "    </tr>\n",
              "    <tr>\n",
              "      <th>Vehicle_Damage_Yes</th>\n",
              "      <td>0.273429</td>\n",
              "      <td>-0.002529</td>\n",
              "      <td>0.028318</td>\n",
              "      <td>-0.853200</td>\n",
              "      <td>-0.243744</td>\n",
              "      <td>-0.000873</td>\n",
              "      <td>0.589136</td>\n",
              "      <td>0.003604</td>\n",
              "      <td>0.094131</td>\n",
              "      <td>1.000000</td>\n",
              "      <td>0.307323</td>\n",
              "      <td>-0.413159</td>\n",
              "      <td>0.173893</td>\n",
              "    </tr>\n",
              "    <tr>\n",
              "      <th>Veh_age_1-2yr</th>\n",
              "      <td>0.580915</td>\n",
              "      <td>-0.024096</td>\n",
              "      <td>0.031253</td>\n",
              "      <td>-0.304452</td>\n",
              "      <td>-0.381701</td>\n",
              "      <td>0.000011</td>\n",
              "      <td>0.259603</td>\n",
              "      <td>-0.030330</td>\n",
              "      <td>0.111268</td>\n",
              "      <td>0.307323</td>\n",
              "      <td>1.000000</td>\n",
              "      <td>-0.865374</td>\n",
              "      <td>-0.334851</td>\n",
              "    </tr>\n",
              "    <tr>\n",
              "      <th>Veh_age_lessthan_1yr</th>\n",
              "      <td>-0.735845</td>\n",
              "      <td>0.027425</td>\n",
              "      <td>-0.040021</td>\n",
              "      <td>0.403503</td>\n",
              "      <td>0.498537</td>\n",
              "      <td>-0.001045</td>\n",
              "      <td>-0.343275</td>\n",
              "      <td>-0.001894</td>\n",
              "      <td>-0.141147</td>\n",
              "      <td>-0.413159</td>\n",
              "      <td>-0.865374</td>\n",
              "      <td>1.000000</td>\n",
              "      <td>-0.182425</td>\n",
              "    </tr>\n",
              "    <tr>\n",
              "      <th>Veh_age_greathan_2yr</th>\n",
              "      <td>0.243848</td>\n",
              "      <td>-0.004291</td>\n",
              "      <td>0.013932</td>\n",
              "      <td>-0.161369</td>\n",
              "      <td>-0.188496</td>\n",
              "      <td>0.001943</td>\n",
              "      <td>0.136115</td>\n",
              "      <td>0.063070</td>\n",
              "      <td>0.047090</td>\n",
              "      <td>0.173893</td>\n",
              "      <td>-0.334851</td>\n",
              "      <td>-0.182425</td>\n",
              "      <td>1.000000</td>\n",
              "    </tr>\n",
              "  </tbody>\n",
              "</table>\n",
              "</div>\n",
              "      <button class=\"colab-df-convert\" onclick=\"convertToInteractive('df-b36fbcb4-f3cc-4a4c-a560-8fd65d419c77')\"\n",
              "              title=\"Convert this dataframe to an interactive table.\"\n",
              "              style=\"display:none;\">\n",
              "        \n",
              "  <svg xmlns=\"http://www.w3.org/2000/svg\" height=\"24px\"viewBox=\"0 0 24 24\"\n",
              "       width=\"24px\">\n",
              "    <path d=\"M0 0h24v24H0V0z\" fill=\"none\"/>\n",
              "    <path d=\"M18.56 5.44l.94 2.06.94-2.06 2.06-.94-2.06-.94-.94-2.06-.94 2.06-2.06.94zm-11 1L8.5 8.5l.94-2.06 2.06-.94-2.06-.94L8.5 2.5l-.94 2.06-2.06.94zm10 10l.94 2.06.94-2.06 2.06-.94-2.06-.94-.94-2.06-.94 2.06-2.06.94z\"/><path d=\"M17.41 7.96l-1.37-1.37c-.4-.4-.92-.59-1.43-.59-.52 0-1.04.2-1.43.59L10.3 9.45l-7.72 7.72c-.78.78-.78 2.05 0 2.83L4 21.41c.39.39.9.59 1.41.59.51 0 1.02-.2 1.41-.59l7.78-7.78 2.81-2.81c.8-.78.8-2.07 0-2.86zM5.41 20L4 18.59l7.72-7.72 1.47 1.35L5.41 20z\"/>\n",
              "  </svg>\n",
              "      </button>\n",
              "      \n",
              "  <style>\n",
              "    .colab-df-container {\n",
              "      display:flex;\n",
              "      flex-wrap:wrap;\n",
              "      gap: 12px;\n",
              "    }\n",
              "\n",
              "    .colab-df-convert {\n",
              "      background-color: #E8F0FE;\n",
              "      border: none;\n",
              "      border-radius: 50%;\n",
              "      cursor: pointer;\n",
              "      display: none;\n",
              "      fill: #1967D2;\n",
              "      height: 32px;\n",
              "      padding: 0 0 0 0;\n",
              "      width: 32px;\n",
              "    }\n",
              "\n",
              "    .colab-df-convert:hover {\n",
              "      background-color: #E2EBFA;\n",
              "      box-shadow: 0px 1px 2px rgba(60, 64, 67, 0.3), 0px 1px 3px 1px rgba(60, 64, 67, 0.15);\n",
              "      fill: #174EA6;\n",
              "    }\n",
              "\n",
              "    [theme=dark] .colab-df-convert {\n",
              "      background-color: #3B4455;\n",
              "      fill: #D2E3FC;\n",
              "    }\n",
              "\n",
              "    [theme=dark] .colab-df-convert:hover {\n",
              "      background-color: #434B5C;\n",
              "      box-shadow: 0px 1px 3px 1px rgba(0, 0, 0, 0.15);\n",
              "      filter: drop-shadow(0px 1px 2px rgba(0, 0, 0, 0.3));\n",
              "      fill: #FFFFFF;\n",
              "    }\n",
              "  </style>\n",
              "\n",
              "      <script>\n",
              "        const buttonEl =\n",
              "          document.querySelector('#df-b36fbcb4-f3cc-4a4c-a560-8fd65d419c77 button.colab-df-convert');\n",
              "        buttonEl.style.display =\n",
              "          google.colab.kernel.accessAllowed ? 'block' : 'none';\n",
              "\n",
              "        async function convertToInteractive(key) {\n",
              "          const element = document.querySelector('#df-b36fbcb4-f3cc-4a4c-a560-8fd65d419c77');\n",
              "          const dataTable =\n",
              "            await google.colab.kernel.invokeFunction('convertToInteractive',\n",
              "                                                     [key], {});\n",
              "          if (!dataTable) return;\n",
              "\n",
              "          const docLinkHtml = 'Like what you see? Visit the ' +\n",
              "            '<a target=\"_blank\" href=https://colab.research.google.com/notebooks/data_table.ipynb>data table notebook</a>'\n",
              "            + ' to learn more about interactive tables.';\n",
              "          element.innerHTML = '';\n",
              "          dataTable['output_type'] = 'display_data';\n",
              "          await google.colab.output.renderOutput(dataTable, element);\n",
              "          const docLink = document.createElement('div');\n",
              "          docLink.innerHTML = docLinkHtml;\n",
              "          element.appendChild(docLink);\n",
              "        }\n",
              "      </script>\n",
              "    </div>\n",
              "  </div>\n",
              "  "
            ]
          },
          "metadata": {},
          "execution_count": 113
        }
      ],
      "source": [
        "corr_matrix = df_2.corr()   ## Corrlation Matrix.\n",
        "corr_matrix"
      ]
    },
    {
      "cell_type": "code",
      "execution_count": 114,
      "metadata": {
        "colab": {
          "base_uri": "https://localhost:8080/",
          "height": 591
        },
        "id": "pMBmAFb7l_kg",
        "outputId": "c6585168-9f5b-4f3c-a8bf-f32c0af07a92"
      },
      "outputs": [
        {
          "output_type": "display_data",
          "data": {
            "text/plain": [
              "<Figure size 1080x576 with 2 Axes>"
            ],
            "image/png": "[encoded data removed]"
          },
          "metadata": {
            "needs_background": "light"
          }
        }
      ],
      "source": [
        "plt.figure(figsize=(15,8))\n",
        "sns.heatmap(corr_matrix,annot=True,cmap=\"YlGnBu\")    ## Heat map \n",
        "plt.show()"
      ]
    },
    {
      "cell_type": "markdown",
      "metadata": {
        "id": "3zhB99NJUNoo"
      },
      "source": [
        "### <font color = ''><b>4.4 <span style='color:#0386f7de'>|</span> Splitting data into train & test set <a id=\"prep\"></a></font>"
      ]
    },
    {
      "cell_type": "code",
      "execution_count": 115,
      "metadata": {
        "id": "Ir-UzMk1l_h-"
      },
      "outputs": [],
      "source": [
        "X_1 = df_2.drop(columns = 'Response')    \n",
        "y_1 = df_2[['Response']]"
      ]
    },
    {
      "cell_type": "code",
      "execution_count": 116,
      "metadata": {
        "id": "EhPWMf9llqm5"
      },
      "outputs": [],
      "source": [
        "X_train_1,X_test_1,y_train_1,y_test_1 = train_test_split(X_1, y_1, random_state = 12) ## Spliting data into train and test of balanced data."
      ]
    },
    {
      "cell_type": "code",
      "execution_count": 117,
      "metadata": {
        "colab": {
          "base_uri": "https://localhost:8080/",
          "height": 0
        },
        "id": "xVItVQIhlqio",
        "outputId": "d5c0156b-6620-4688-f3d4-d7a2770f16bb"
      },
      "outputs": [
        {
          "output_type": "execute_result",
          "data": {
            "text/plain": [
              "((152561, 12), (50854, 12), (152561, 1), (50854, 1))"
            ]
          },
          "metadata": {},
          "execution_count": 117
        }
      ],
      "source": [
        "X_train_1.shape,X_test_1.shape,y_train_1.shape,y_test_1.shape   ## Shape of the train and test data."
      ]
    },
    {
      "cell_type": "markdown",
      "metadata": {
        "id": "xRbsJ9kfUpLF"
      },
      "source": [
        "##  <font color = ''><b>5 <span style='color:#0386f7de'>|</span>Model Building(Up-dated)<a id=\"prep\"></a></font>"
      ]
    },
    {
      "cell_type": "markdown",
      "metadata": {
        "id": "cjSQ-LlBVfas"
      },
      "source": [
        "###  <font color = ''><b>5.1 <span style='color:#0386f7de'>|</span> Logistic Regression <a id=\"prep\"></a></font>"
      ]
    },
    {
      "cell_type": "code",
      "execution_count": 118,
      "metadata": {
        "colab": {
          "base_uri": "https://localhost:8080/",
          "height": 0
        },
        "id": "wgZ3JV9GVe6Z",
        "outputId": "20ea369f-e9e2-4dc4-ede8-7b737c4594d3"
      },
      "outputs": [
        {
          "output_type": "execute_result",
          "data": {
            "text/plain": [
              "LogisticRegression()"
            ]
          },
          "metadata": {},
          "execution_count": 118
        }
      ],
      "source": [
        "logistic_model = LogisticRegression()    ## Fitting Logistic Model. \n",
        "logistic_model.fit(X_train_1,y_train_1)"
      ]
    },
    {
      "cell_type": "code",
      "execution_count": 119,
      "metadata": {
        "colab": {
          "base_uri": "https://localhost:8080/",
          "height": 0
        },
        "id": "sJ6X3HXQUl_H",
        "outputId": "31c32e85-ae12-41e4-bc71-b1e04527289f"
      },
      "outputs": [
        {
          "output_type": "stream",
          "name": "stdout",
          "text": [
            "Accuracy Score                 : 0.6744\n",
            "Precision Score                : 0.6669\n",
            "Recall Score                   : 0.6495\n",
            "Confusion Matrix               :\n",
            " [[55097 23872]\n",
            " [25797 47795]]\n",
            "Classification Report          :\n",
            "               precision    recall  f1-score   support\n",
            "\n",
            "           0       0.68      0.70      0.69     78969\n",
            "           1       0.67      0.65      0.66     73592\n",
            "\n",
            "    accuracy                           0.67    152561\n",
            "   macro avg       0.67      0.67      0.67    152561\n",
            "weighted avg       0.67      0.67      0.67    152561\n",
            "\n"
          ]
        }
      ],
      "source": [
        "logistic_pred_train = logistic_model.predict(X_train_1)      ## Train Accuracy.\n",
        "print('Accuracy Score                 :',round(accuracy_score(y_train_1,logistic_pred_train),4))\n",
        "print('Precision Score                :',round(precision_score(y_train_1,logistic_pred_train),4))\n",
        "print('Recall Score                   :',round(recall_score(y_train_1,logistic_pred_train),4))\n",
        "print('Confusion Matrix               :\\n',confusion_matrix(y_train_1,logistic_pred_train))\n",
        "print('Classification Report          :\\n',classification_report(y_train_1,logistic_pred_train))"
      ]
    },
    {
      "cell_type": "code",
      "execution_count": 120,
      "metadata": {
        "colab": {
          "base_uri": "https://localhost:8080/",
          "height": 0
        },
        "id": "Argo5GElUvQh",
        "outputId": "a3938745-541b-45cb-b9ea-30b24f567013"
      },
      "outputs": [
        {
          "output_type": "stream",
          "name": "stdout",
          "text": [
            "Accuracy Score                 : 0.6771\n",
            "Precision Score                : 0.6705\n",
            "Recall Score                   : 0.6507\n",
            "Confusion Matrix               :\n",
            " [[18461  7849]\n",
            " [ 8574 15970]]\n",
            "Classification Report          :\n",
            "               precision    recall  f1-score   support\n",
            "\n",
            "           0       0.68      0.70      0.69     26310\n",
            "           1       0.67      0.65      0.66     24544\n",
            "\n",
            "    accuracy                           0.68     50854\n",
            "   macro avg       0.68      0.68      0.68     50854\n",
            "weighted avg       0.68      0.68      0.68     50854\n",
            "\n"
          ]
        }
      ],
      "source": [
        "logistic_pred_test = logistic_model.predict(X_test_1)                   ## Test Accuracy.\n",
        "print('Accuracy Score                 :',round(accuracy_score(y_test_1,logistic_pred_test),4))\n",
        "print('Precision Score                :',round(precision_score(y_test_1,logistic_pred_test),4))\n",
        "print('Recall Score                   :',round(recall_score(y_test_1,logistic_pred_test),4))\n",
        "print('Confusion Matrix               :\\n',confusion_matrix(y_test_1,logistic_pred_test))\n",
        "print('Classification Report          :\\n',classification_report(y_test_1,logistic_pred_test))"
      ]
    },
    {
      "cell_type": "code",
      "execution_count": 121,
      "metadata": {
        "colab": {
          "base_uri": "https://localhost:8080/",
          "height": 314
        },
        "id": "xqGD-d8yUvOX",
        "outputId": "bd7a50c6-2a79-495b-a940-1fd91ca21e76"
      },
      "outputs": [
        {
          "output_type": "stream",
          "name": "stdout",
          "text": [
            "Area Under Curve     : 0.6761702778327008\n"
          ]
        },
        {
          "output_type": "execute_result",
          "data": {
            "text/plain": [
              "Text(0, 0.5, 'True Positive Rate')"
            ]
          },
          "metadata": {},
          "execution_count": 121
        },
        {
          "output_type": "display_data",
          "data": {
            "text/plain": [
              "<Figure size 432x288 with 1 Axes>"
            ],
            "image/png": "[encoded data removed]"
          },
          "metadata": {
            "needs_background": "light"
          }
        }
      ],
      "source": [
        "fpr, tpr, thresholds = roc_curve(y_test_1,logistic_model.predict_proba (X_test_1)[:,1])\n",
        "auc_score = roc_auc_score(y_test_1, logistic_pred_test)\n",
        "print('Area Under Curve     :',auc_score)                          ## AUC-ROC Curve.\n",
        "plt.plot(fpr, tpr, color='red', label='logit model ( area  = %0.2f)'%auc_score)\n",
        "plt.plot([0, 1], [0, 1], 'k--')\n",
        "plt.xlabel('False Positive Rate or [1 - True Negative Rate]')\n",
        "plt.ylabel('True Positive Rate')"
      ]
    },
    {
      "cell_type": "markdown",
      "metadata": {
        "id": "LjqM6ukpZP6t"
      },
      "source": [
        "###  <font color = ''><b>5.2 <span style='color:#0386f7de'>|</span> Decision Tree <a id=\"prep\"></a></font>"
      ]
    },
    {
      "cell_type": "code",
      "execution_count": 122,
      "metadata": {
        "colab": {
          "base_uri": "https://localhost:8080/",
          "height": 0
        },
        "id": "355yXq05ZNNe",
        "outputId": "98850f02-c347-4009-ba90-c82538a3238e"
      },
      "outputs": [
        {
          "output_type": "execute_result",
          "data": {
            "text/plain": [
              "DecisionTreeClassifier(max_depth=12, random_state=15)"
            ]
          },
          "metadata": {},
          "execution_count": 122
        }
      ],
      "source": [
        "dt_model = DecisionTreeClassifier(random_state=15,max_depth=12)   ## Fitting Decision Tree Model.\n",
        "dt_model.fit(X_train_1,y_train_1)"
      ]
    },
    {
      "cell_type": "code",
      "execution_count": 123,
      "metadata": {
        "colab": {
          "base_uri": "https://localhost:8080/",
          "height": 0
        },
        "id": "punrRavKZNLA",
        "outputId": "70de38ee-1c8d-47a2-e5fc-fe1e8559efe6"
      },
      "outputs": [
        {
          "output_type": "stream",
          "name": "stdout",
          "text": [
            "Accuracy Score                 : 0.8108\n",
            "Precision Score                : 0.7425\n",
            "Recall Score                   : 0.9304\n",
            "Confusion Matrix               :\n",
            " [[55222 23747]\n",
            " [ 5124 68468]]\n",
            "Classification Report          :\n",
            "               precision    recall  f1-score   support\n",
            "\n",
            "           0       0.92      0.70      0.79     78969\n",
            "           1       0.74      0.93      0.83     73592\n",
            "\n",
            "    accuracy                           0.81    152561\n",
            "   macro avg       0.83      0.81      0.81    152561\n",
            "weighted avg       0.83      0.81      0.81    152561\n",
            "\n"
          ]
        }
      ],
      "source": [
        "dt_pred_train = dt_model.predict(X_train_1)                ## Train Accuracy.\n",
        "print('Accuracy Score                 :',round(accuracy_score(y_train_1,dt_pred_train),4))\n",
        "print('Precision Score                :',round(precision_score(y_train_1,dt_pred_train),4))\n",
        "print('Recall Score                   :',round(recall_score(y_train_1,dt_pred_train),4))\n",
        "print('Confusion Matrix               :\\n',confusion_matrix(y_train_1,dt_pred_train))\n",
        "print('Classification Report          :\\n',classification_report(y_train_1,dt_pred_train))"
      ]
    },
    {
      "cell_type": "code",
      "execution_count": 124,
      "metadata": {
        "colab": {
          "base_uri": "https://localhost:8080/",
          "height": 0
        },
        "id": "fovz3YAlZNIr",
        "outputId": "87f88d26-ee4d-4746-d93e-3ccbcea3711d"
      },
      "outputs": [
        {
          "output_type": "stream",
          "name": "stdout",
          "text": [
            "Accuracy Score                 : 0.8005\n",
            "Precision Score                : 0.7333\n",
            "Recall Score                   : 0.9219\n",
            "Confusion Matrix               :\n",
            " [[18080  8230]\n",
            " [ 1916 22628]]\n",
            "Classification Report          :\n",
            "               precision    recall  f1-score   support\n",
            "\n",
            "           0       0.90      0.69      0.78     26310\n",
            "           1       0.73      0.92      0.82     24544\n",
            "\n",
            "    accuracy                           0.80     50854\n",
            "   macro avg       0.82      0.80      0.80     50854\n",
            "weighted avg       0.82      0.80      0.80     50854\n",
            "\n"
          ]
        }
      ],
      "source": [
        "dt_pred_test = dt_model.predict(X_test_1)                             ## Test Accuracy.\n",
        "print('Accuracy Score                 :',round(accuracy_score(y_test_1,dt_pred_test),4))\n",
        "print('Precision Score                :',round(precision_score(y_test_1,dt_pred_test),4))\n",
        "print('Recall Score                   :',round(recall_score(y_test_1,dt_pred_test),4))\n",
        "print('Confusion Matrix               :\\n',confusion_matrix(y_test_1,dt_pred_test))\n",
        "print('Classification Report          :\\n',classification_report(y_test_1,dt_pred_test))"
      ]
    },
    {
      "cell_type": "code",
      "execution_count": 125,
      "metadata": {
        "colab": {
          "base_uri": "https://localhost:8080/",
          "height": 314
        },
        "id": "dvrUvsUNZNDv",
        "outputId": "be70a1c9-ea82-411f-e637-da8596b228ba"
      },
      "outputs": [
        {
          "output_type": "stream",
          "name": "stdout",
          "text": [
            "Area Under Curve     : 0.8045636483963889\n"
          ]
        },
        {
          "output_type": "execute_result",
          "data": {
            "text/plain": [
              "Text(0, 0.5, 'True Positive Rate')"
            ]
          },
          "metadata": {},
          "execution_count": 125
        },
        {
          "output_type": "display_data",
          "data": {
            "text/plain": [
              "<Figure size 432x288 with 1 Axes>"
            ],
            "image/png": "[encoded data removed]"
          },
          "metadata": {
            "needs_background": "light"
          }
        }
      ],
      "source": [
        "fpr, tpr, thresholds = roc_curve(y_test_1,dt_model.predict_proba (X_test_1)[:,1])\n",
        "auc_score = roc_auc_score(y_test_1, dt_pred_test)\n",
        "print('Area Under Curve     :',auc_score)                          ## AUC-ROC Curve.\n",
        "plt.plot(fpr, tpr, color='red', label='logit model ( area  = %0.2f)'%auc_score)\n",
        "plt.plot([0, 1], [0, 1], 'k--')\n",
        "plt.xlabel('False Positive Rate or [1 - True Negative Rate]')\n",
        "plt.ylabel('True Positive Rate')"
      ]
    },
    {
      "cell_type": "markdown",
      "source": [
        "###  <font color = ''><b>5.3 <span style='color:#0386f7de'>|</span> Random Forest <a id=\"prep\"></a></font>"
      ],
      "metadata": {
        "id": "trET0TgCiTHW"
      }
    },
    {
      "cell_type": "code",
      "execution_count": 126,
      "metadata": {
        "colab": {
          "base_uri": "https://localhost:8080/",
          "height": 0
        },
        "id": "EZPg-xWsZM4O",
        "outputId": "97c98962-8b96-4d30-cc85-3dd7b6ea6ca2"
      },
      "outputs": [
        {
          "output_type": "execute_result",
          "data": {
            "text/plain": [
              "RandomForestClassifier(max_depth=12, random_state=15)"
            ]
          },
          "metadata": {},
          "execution_count": 126
        }
      ],
      "source": [
        "rf_model = RandomForestClassifier(random_state=15, max_depth=12)   ## Fitting Random Forest Model.\n",
        "rf_model.fit(X_train_1,y_train_1)"
      ]
    },
    {
      "cell_type": "code",
      "execution_count": 127,
      "metadata": {
        "colab": {
          "base_uri": "https://localhost:8080/",
          "height": 0
        },
        "id": "CM5tUeFAUvDx",
        "outputId": "06faaaef-d9ad-4787-8929-0c8ef377017a"
      },
      "outputs": [
        {
          "output_type": "stream",
          "name": "stdout",
          "text": [
            "Accuracy Score                 : 0.8162\n",
            "Precision Score                : 0.7405\n",
            "Recall Score                   : 0.9528\n",
            "Confusion Matrix               :\n",
            " [[54402 24567]\n",
            " [ 3476 70116]]\n",
            "Classification Report          :\n",
            "               precision    recall  f1-score   support\n",
            "\n",
            "           0       0.94      0.69      0.80     78969\n",
            "           1       0.74      0.95      0.83     73592\n",
            "\n",
            "    accuracy                           0.82    152561\n",
            "   macro avg       0.84      0.82      0.81    152561\n",
            "weighted avg       0.84      0.82      0.81    152561\n",
            "\n"
          ]
        }
      ],
      "source": [
        "rf_pred_train = rf_model.predict(X_train_1)                         ## Train Accuracy.\n",
        "print('Accuracy Score                 :',round(accuracy_score(y_train_1,rf_pred_train),4))\n",
        "print('Precision Score                :',round(precision_score(y_train_1,rf_pred_train),4))\n",
        "print('Recall Score                   :',round(recall_score(y_train_1,rf_pred_train),4))\n",
        "print('Confusion Matrix               :\\n',confusion_matrix(y_train_1,rf_pred_train))\n",
        "print('Classification Report          :\\n',classification_report(y_train_1,rf_pred_train))"
      ]
    },
    {
      "cell_type": "code",
      "execution_count": 128,
      "metadata": {
        "colab": {
          "base_uri": "https://localhost:8080/",
          "height": 0
        },
        "id": "UfOKFax0UvBW",
        "outputId": "ed46c4bb-7d6a-49ff-a4ee-6f5e8c9f165e"
      },
      "outputs": [
        {
          "output_type": "stream",
          "name": "stdout",
          "text": [
            "Accuracy Score                 : 0.8078\n",
            "Precision Score                : 0.7331\n",
            "Recall Score                   : 0.9462\n",
            "Confusion Matrix               :\n",
            " [[17854  8456]\n",
            " [ 1320 23224]]\n",
            "Classification Report          :\n",
            "               precision    recall  f1-score   support\n",
            "\n",
            "           0       0.93      0.68      0.79     26310\n",
            "           1       0.73      0.95      0.83     24544\n",
            "\n",
            "    accuracy                           0.81     50854\n",
            "   macro avg       0.83      0.81      0.81     50854\n",
            "weighted avg       0.84      0.81      0.80     50854\n",
            "\n"
          ]
        }
      ],
      "source": [
        "rf_pred_test = rf_model.predict(X_test_1)                              ## Test Accuracy.\n",
        "print('Accuracy Score                 :',round(accuracy_score(y_test_1,rf_pred_test),4))\n",
        "print('Precision Score                :',round(precision_score(y_test_1,rf_pred_test),4))\n",
        "print('Recall Score                   :',round(recall_score(y_test_1,rf_pred_test),4))\n",
        "print('Confusion Matrix               :\\n',confusion_matrix(y_test_1,rf_pred_test))\n",
        "print('Classification Report          :\\n',classification_report(y_test_1,rf_pred_test))"
      ]
    },
    {
      "cell_type": "code",
      "execution_count": 129,
      "metadata": {
        "colab": {
          "base_uri": "https://localhost:8080/",
          "height": 314
        },
        "id": "6gDKWgHbUu-Q",
        "outputId": "aeb4c63d-f9e5-4c68-f76b-dac00a5ba7af"
      },
      "outputs": [
        {
          "output_type": "stream",
          "name": "stdout",
          "text": [
            "Area Under Curve     : 0.8124101637431943\n"
          ]
        },
        {
          "output_type": "execute_result",
          "data": {
            "text/plain": [
              "Text(0, 0.5, 'True Positive Rate')"
            ]
          },
          "metadata": {},
          "execution_count": 129
        },
        {
          "output_type": "display_data",
          "data": {
            "text/plain": [
              "<Figure size 432x288 with 1 Axes>"
            ],
            "image/png": "[encoded data removed]"
          },
          "metadata": {
            "needs_background": "light"
          }
        }
      ],
      "source": [
        "fpr, tpr, thresholds = roc_curve(y_test_1,rf_model.predict_proba (X_test_1)[:,1])\n",
        "auc_score = roc_auc_score(y_test_1, rf_pred_test)\n",
        "print('Area Under Curve     :',auc_score)                          ## AUC-ROC Curve.\n",
        "plt.plot(fpr, tpr, color='red', label='logit model ( area  = %0.2f)'%auc_score)\n",
        "plt.plot([0, 1], [0, 1], 'k--')\n",
        "plt.xlabel('False Positive Rate or [1 - True Negative Rate]')\n",
        "plt.ylabel('True Positive Rate')"
      ]
    },
    {
      "cell_type": "markdown",
      "source": [
        "###  <font color = ''><b>5.4 <span style='color:#0386f7de'>|</span>  Gradient Boosting Classifier <a id=\"prep\"></a></font>"
      ],
      "metadata": {
        "id": "xc2FDQ73jxKT"
      }
    },
    {
      "cell_type": "code",
      "source": [
        "gradient_model = GradientBoostingClassifier(random_state=15,n_estimators=100,learning_rate=0.1, verbose=1)\n",
        "start_time = time.time()                                   ## Fitting the gradient boost classifier.\n",
        "gradient_model.fit(X_train_1,y_train_1)\n",
        "print(\"Time taken by GBM \"+ str((time.time() - start_time))+ \" Seconds\")"
      ],
      "metadata": {
        "colab": {
          "base_uri": "https://localhost:8080/",
          "height": 0
        },
        "id": "lVZbIQEtiifI",
        "outputId": "bb453d52-2604-4a88-e13d-d95545c2aa81"
      },
      "execution_count": 130,
      "outputs": [
        {
          "output_type": "stream",
          "name": "stdout",
          "text": [
            "      Iter       Train Loss   Remaining Time \n",
            "         1           1.3088           19.17s\n",
            "         2           1.2464           18.83s\n",
            "         3           1.1947           18.63s\n",
            "         4           1.1514           18.34s\n",
            "         5           1.1149           18.36s\n",
            "         6           1.0832           18.17s\n",
            "         7           1.0566           18.07s\n",
            "         8           1.0338           17.84s\n",
            "         9           1.0134           17.72s\n",
            "        10           0.9962           17.66s\n",
            "        20           0.9033           15.41s\n",
            "        30           0.8746           13.44s\n",
            "        40           0.8621           11.54s\n",
            "        50           0.8560            9.59s\n",
            "        60           0.8517            7.73s\n",
            "        70           0.8489            5.84s\n",
            "        80           0.8464            3.90s\n",
            "        90           0.8448            1.95s\n",
            "       100           0.8433            0.00s\n",
            "Time taken by GBM 19.50627565383911 Seconds\n"
          ]
        }
      ]
    },
    {
      "cell_type": "code",
      "source": [
        "gradient_pred_train = gradient_model.predict(X_train_1)                   ## Train Accuracy.\n",
        "print('Accuracy Score                 :',round(accuracy_score(y_train_1,gradient_pred_train),4))\n",
        "print('Precision Score                :',round(precision_score(y_train_1,gradient_pred_train),4))\n",
        "print('Recall Score                   :',round(recall_score(y_train_1,gradient_pred_train),4))\n",
        "print('Confusion Matrix               :\\n',confusion_matrix(y_train_1,gradient_pred_train))\n",
        "print('Classification Report          :\\n',classification_report(y_train_1,gradient_pred_train))"
      ],
      "metadata": {
        "colab": {
          "base_uri": "https://localhost:8080/",
          "height": 0
        },
        "id": "zDCzLjvAiicC",
        "outputId": "8a6689b5-4a2e-429a-83fa-3fadbb4c7459"
      },
      "execution_count": 131,
      "outputs": [
        {
          "output_type": "stream",
          "name": "stdout",
          "text": [
            "Accuracy Score                 : 0.7945\n",
            "Precision Score                : 0.7296\n",
            "Recall Score                   : 0.912\n",
            "Confusion Matrix               :\n",
            " [[54099 24870]\n",
            " [ 6476 67116]]\n",
            "Classification Report          :\n",
            "               precision    recall  f1-score   support\n",
            "\n",
            "           0       0.89      0.69      0.78     78969\n",
            "           1       0.73      0.91      0.81     73592\n",
            "\n",
            "    accuracy                           0.79    152561\n",
            "   macro avg       0.81      0.80      0.79    152561\n",
            "weighted avg       0.81      0.79      0.79    152561\n",
            "\n"
          ]
        }
      ]
    },
    {
      "cell_type": "code",
      "source": [
        "gradient_pred_test = gradient_model.predict(X_test_1)                  ## Test Accuracy.\n",
        "print('Accuracy Score                 :',round(accuracy_score(y_test_1,gradient_pred_test),4))\n",
        "print('Precision Score                :',round(precision_score(y_test_1,gradient_pred_test),4))\n",
        "print('Recall Score                   :',round(recall_score(y_test_1,gradient_pred_test),4))\n",
        "print('Confusion Matrix               :\\n',confusion_matrix(y_test_1,gradient_pred_test))\n",
        "print('Classification Report          :\\n',classification_report(y_test_1,gradient_pred_test))"
      ],
      "metadata": {
        "colab": {
          "base_uri": "https://localhost:8080/",
          "height": 0
        },
        "id": "0M0hRqZLiiXY",
        "outputId": "3cda596a-5850-42bd-c634-856be87e8e1b"
      },
      "execution_count": 132,
      "outputs": [
        {
          "output_type": "stream",
          "name": "stdout",
          "text": [
            "Accuracy Score                 : 0.7933\n",
            "Precision Score                : 0.7291\n",
            "Recall Score                   : 0.9099\n",
            "Confusion Matrix               :\n",
            " [[18011  8299]\n",
            " [ 2211 22333]]\n",
            "Classification Report          :\n",
            "               precision    recall  f1-score   support\n",
            "\n",
            "           0       0.89      0.68      0.77     26310\n",
            "           1       0.73      0.91      0.81     24544\n",
            "\n",
            "    accuracy                           0.79     50854\n",
            "   macro avg       0.81      0.80      0.79     50854\n",
            "weighted avg       0.81      0.79      0.79     50854\n",
            "\n"
          ]
        }
      ]
    },
    {
      "cell_type": "code",
      "source": [
        "fpr, tpr, thresholds = roc_curve(y_test_1,gradient_model.predict_proba (X_test_1)[:,1])\n",
        "auc_score = roc_auc_score(y_test_1, gradient_pred_test)\n",
        "print('Area Under Curve     :',auc_score)                          ## AUC-ROC Curve.\n",
        "plt.plot(fpr, tpr, color='red', label='logit model ( area  = %0.2f)'%auc_score)\n",
        "plt.plot([0, 1], [0, 1], 'k--')\n",
        "plt.xlabel('False Positive Rate or [1 - True Negative Rate]')\n",
        "plt.ylabel('True Positive Rate')"
      ],
      "metadata": {
        "colab": {
          "base_uri": "https://localhost:8080/",
          "height": 314
        },
        "id": "9FvASQj0iiU5",
        "outputId": "23736153-78c9-4f72-9e0c-af4f164eba21"
      },
      "execution_count": 133,
      "outputs": [
        {
          "output_type": "stream",
          "name": "stdout",
          "text": [
            "Area Under Curve     : 0.7972427445283075\n"
          ]
        },
        {
          "output_type": "execute_result",
          "data": {
            "text/plain": [
              "Text(0, 0.5, 'True Positive Rate')"
            ]
          },
          "metadata": {},
          "execution_count": 133
        },
        {
          "output_type": "display_data",
          "data": {
            "text/plain": [
              "<Figure size 432x288 with 1 Axes>"
            ],
            "image/png": "[encoded data removed]"
          },
          "metadata": {
            "needs_background": "light"
          }
        }
      ]
    },
    {
      "cell_type": "markdown",
      "source": [
        "###  <font color = ''><b>5.5 <span style='color:#0386f7de'>|</span>  XGB <a id=\"prep\"></a></font>"
      ],
      "metadata": {
        "id": "FoLwwkiskYmz"
      }
    },
    {
      "cell_type": "code",
      "source": [
        "xgb_model = XGBClassifier(max_depth=12,random_state=15)\n",
        "start_time = time.time()                           ## Fitting the XGB classifier.\n",
        "xgb_model.fit(X_train_1,y_train_1)\n",
        "print(\"Time taken by XGB\"+ str((time.time() - start_time))+ \" Seconds\")"
      ],
      "metadata": {
        "colab": {
          "base_uri": "https://localhost:8080/",
          "height": 0
        },
        "id": "-8CUPJzmiiSa",
        "outputId": "4c3a5c05-5c27-4e6f-8ac6-8bfa37839528"
      },
      "execution_count": 134,
      "outputs": [
        {
          "output_type": "stream",
          "name": "stdout",
          "text": [
            "Time taken by XGB35.71836280822754 Seconds\n"
          ]
        }
      ]
    },
    {
      "cell_type": "code",
      "source": [
        "xgb_pred_train = xgb_model.predict(X_train_1)                           ## Train Accuracy.\n",
        "print('Accuracy Score                 :',round(accuracy_score(y_train_1,xgb_pred_train),4))\n",
        "print('Precision Score                :',round(precision_score(y_train_1,xgb_pred_train),4))\n",
        "print('Recall Score                   :',round(recall_score(y_train_1,xgb_pred_train),4))\n",
        "print('Confusion Matrix               :\\n',confusion_matrix(y_train_1,xgb_pred_train))\n",
        "print('Classification Report          :\\n',classification_report(y_train_1,xgb_pred_train))"
      ],
      "metadata": {
        "colab": {
          "base_uri": "https://localhost:8080/",
          "height": 0
        },
        "id": "qqwIh_lviiPg",
        "outputId": "3e1db5cd-d015-4b2e-c404-62eeb2771612"
      },
      "execution_count": 135,
      "outputs": [
        {
          "output_type": "stream",
          "name": "stdout",
          "text": [
            "Accuracy Score                 : 0.8665\n",
            "Precision Score                : 0.7931\n",
            "Recall Score                   : 0.9785\n",
            "Confusion Matrix               :\n",
            " [[60182 18787]\n",
            " [ 1583 72009]]\n",
            "Classification Report          :\n",
            "               precision    recall  f1-score   support\n",
            "\n",
            "           0       0.97      0.76      0.86     78969\n",
            "           1       0.79      0.98      0.88     73592\n",
            "\n",
            "    accuracy                           0.87    152561\n",
            "   macro avg       0.88      0.87      0.87    152561\n",
            "weighted avg       0.89      0.87      0.87    152561\n",
            "\n"
          ]
        }
      ]
    },
    {
      "cell_type": "code",
      "source": [
        "xgb_pred_test = xgb_model.predict(X_test_1)                          ## Test Accuracy.\n",
        "print('Accuracy Score                 :',round(accuracy_score(y_test_1,xgb_pred_test),4))\n",
        "print('Precision Score                :',round(precision_score(y_test_1,xgb_pred_test),4))\n",
        "print('Recall Score                   :',round(recall_score(y_test_1,xgb_pred_test),4))\n",
        "print('Confusion Matrix               :\\n',confusion_matrix(y_test_1,xgb_pred_test))\n",
        "print('Classification Report          :\\n',classification_report(y_test_1,xgb_pred_test))"
      ],
      "metadata": {
        "colab": {
          "base_uri": "https://localhost:8080/",
          "height": 0
        },
        "id": "sCGY1acsiiNO",
        "outputId": "c949c906-44f5-4d4d-aa34-ee85b4cae2e5"
      },
      "execution_count": 136,
      "outputs": [
        {
          "output_type": "stream",
          "name": "stdout",
          "text": [
            "Accuracy Score                 : 0.8392\n",
            "Precision Score                : 0.7651\n",
            "Recall Score                   : 0.9624\n",
            "Confusion Matrix               :\n",
            " [[19056  7254]\n",
            " [  923 23621]]\n",
            "Classification Report          :\n",
            "               precision    recall  f1-score   support\n",
            "\n",
            "           0       0.95      0.72      0.82     26310\n",
            "           1       0.77      0.96      0.85     24544\n",
            "\n",
            "    accuracy                           0.84     50854\n",
            "   macro avg       0.86      0.84      0.84     50854\n",
            "weighted avg       0.86      0.84      0.84     50854\n",
            "\n"
          ]
        }
      ]
    },
    {
      "cell_type": "code",
      "execution_count": 137,
      "metadata": {
        "colab": {
          "base_uri": "https://localhost:8080/",
          "height": 314
        },
        "id": "uzaY5OAjUu7d",
        "outputId": "deb662be-f1e4-420d-db3c-889de223dee4"
      },
      "outputs": [
        {
          "output_type": "stream",
          "name": "stdout",
          "text": [
            "Area Under Curve     : 0.8433407055060589\n"
          ]
        },
        {
          "output_type": "execute_result",
          "data": {
            "text/plain": [
              "Text(0, 0.5, 'True Positive Rate')"
            ]
          },
          "metadata": {},
          "execution_count": 137
        },
        {
          "output_type": "display_data",
          "data": {
            "text/plain": [
              "<Figure size 432x288 with 1 Axes>"
            ],
            "image/png": "[encoded data removed]"
          },
          "metadata": {
            "needs_background": "light"
          }
        }
      ],
      "source": [
        "fpr, tpr, thresholds = roc_curve(y_test_1,xgb_model.predict_proba (X_test_1)[:,1])\n",
        "auc_score = roc_auc_score(y_test_1, xgb_pred_test)\n",
        "print('Area Under Curve     :',auc_score)                      ## AUC-ROC Curve.\n",
        "plt.plot(fpr, tpr, color='red', label='logit model ( area  = %0.2f)'%auc_score)\n",
        "plt.plot([0, 1], [0, 1], 'k--')\n",
        "plt.xlabel('False Positive Rate or [1 - True Negative Rate]')\n",
        "plt.ylabel('True Positive Rate')"
      ]
    },
    {
      "cell_type": "markdown",
      "source": [
        "##  <font color = ''><b>6 <span style='color:#0386f7de'>|</span> All Model wise Accuracy <a id=\"prep\"></a></font>"
      ],
      "metadata": {
        "id": "iPJNurRMGSGR"
      }
    },
    {
      "cell_type": "code",
      "source": [
        "resultdata =[['Logistic Regression',0.6744,0.6771,0.6705,0.6495],\n",
        "            ['Decision Tree',0.8108,0.8005, 0.7333,0.9219],\n",
        "            ['Random Forest',0.8162,0.8078,0.7331,0.9462],\n",
        "            ['Gradient Boosting',0.7945,0.7933,0.7290,0.9099],\n",
        "             ['XGB',0.8665,0.84, 0.7651,0.9624]]\n",
        "\n",
        "result_df = pd.DataFrame(resultdata,columns=['Models','Training Accuracy','Test Accuracy','Precision Score','Recall Score'])\n",
        "result_df"
      ],
      "metadata": {
        "colab": {
          "base_uri": "https://localhost:8080/",
          "height": 206
        },
        "id": "4g1HdWuaGR3p",
        "outputId": "cc3b5bc4-1a16-4290-b1ad-66b498e086cf"
      },
      "execution_count": 140,
      "outputs": [
        {
          "output_type": "execute_result",
          "data": {
            "text/plain": [
              "                Models  Training Accuracy  Test Accuracy  Precision Score  \\\n",
              "0  Logistic Regression             0.6744         0.6771           0.6705   \n",
              "1        Decision Tree             0.8108         0.8005           0.7333   \n",
              "2        Random Forest             0.8162         0.8078           0.7331   \n",
              "3    Gradient Boosting             0.7945         0.7933           0.7290   \n",
              "4                  XGB             0.8665         0.8400           0.7651   \n",
              "\n",
              "   Recall Score  \n",
              "0        0.6495  \n",
              "1        0.9219  \n",
              "2        0.9462  \n",
              "3        0.9099  \n",
              "4        0.9624  "
            ],
            "text/html": [
              "\n",
              "  <div id=\"df-066d7a36-083d-4719-a8bd-35b62e95eeb7\">\n",
              "    <div class=\"colab-df-container\">\n",
              "      <div>\n",
              "<style scoped>\n",
              "    .dataframe tbody tr th:only-of-type {\n",
              "        vertical-align: middle;\n",
              "    }\n",
              "\n",
              "    .dataframe tbody tr th {\n",
              "        vertical-align: top;\n",
              "    }\n",
              "\n",
              "    .dataframe thead th {\n",
              "        text-align: right;\n",
              "    }\n",
              "</style>\n",
              "<table border=\"1\" class=\"dataframe\">\n",
              "  <thead>\n",
              "    <tr style=\"text-align: right;\">\n",
              "      <th></th>\n",
              "      <th>Models</th>\n",
              "      <th>Training Accuracy</th>\n",
              "      <th>Test Accuracy</th>\n",
              "      <th>Precision Score</th>\n",
              "      <th>Recall Score</th>\n",
              "    </tr>\n",
              "  </thead>\n",
              "  <tbody>\n",
              "    <tr>\n",
              "      <th>0</th>\n",
              "      <td>Logistic Regression</td>\n",
              "      <td>0.6744</td>\n",
              "      <td>0.6771</td>\n",
              "      <td>0.6705</td>\n",
              "      <td>0.6495</td>\n",
              "    </tr>\n",
              "    <tr>\n",
              "      <th>1</th>\n",
              "      <td>Decision Tree</td>\n",
              "      <td>0.8108</td>\n",
              "      <td>0.8005</td>\n",
              "      <td>0.7333</td>\n",
              "      <td>0.9219</td>\n",
              "    </tr>\n",
              "    <tr>\n",
              "      <th>2</th>\n",
              "      <td>Random Forest</td>\n",
              "      <td>0.8162</td>\n",
              "      <td>0.8078</td>\n",
              "      <td>0.7331</td>\n",
              "      <td>0.9462</td>\n",
              "    </tr>\n",
              "    <tr>\n",
              "      <th>3</th>\n",
              "      <td>Gradient Boosting</td>\n",
              "      <td>0.7945</td>\n",
              "      <td>0.7933</td>\n",
              "      <td>0.7290</td>\n",
              "      <td>0.9099</td>\n",
              "    </tr>\n",
              "    <tr>\n",
              "      <th>4</th>\n",
              "      <td>XGB</td>\n",
              "      <td>0.8665</td>\n",
              "      <td>0.8400</td>\n",
              "      <td>0.7651</td>\n",
              "      <td>0.9624</td>\n",
              "    </tr>\n",
              "  </tbody>\n",
              "</table>\n",
              "</div>\n",
              "      <button class=\"colab-df-convert\" onclick=\"convertToInteractive('df-066d7a36-083d-4719-a8bd-35b62e95eeb7')\"\n",
              "              title=\"Convert this dataframe to an interactive table.\"\n",
              "              style=\"display:none;\">\n",
              "        \n",
              "  <svg xmlns=\"http://www.w3.org/2000/svg\" height=\"24px\"viewBox=\"0 0 24 24\"\n",
              "       width=\"24px\">\n",
              "    <path d=\"M0 0h24v24H0V0z\" fill=\"none\"/>\n",
              "    <path d=\"M18.56 5.44l.94 2.06.94-2.06 2.06-.94-2.06-.94-.94-2.06-.94 2.06-2.06.94zm-11 1L8.5 8.5l.94-2.06 2.06-.94-2.06-.94L8.5 2.5l-.94 2.06-2.06.94zm10 10l.94 2.06.94-2.06 2.06-.94-2.06-.94-.94-2.06-.94 2.06-2.06.94z\"/><path d=\"M17.41 7.96l-1.37-1.37c-.4-.4-.92-.59-1.43-.59-.52 0-1.04.2-1.43.59L10.3 9.45l-7.72 7.72c-.78.78-.78 2.05 0 2.83L4 21.41c.39.39.9.59 1.41.59.51 0 1.02-.2 1.41-.59l7.78-7.78 2.81-2.81c.8-.78.8-2.07 0-2.86zM5.41 20L4 18.59l7.72-7.72 1.47 1.35L5.41 20z\"/>\n",
              "  </svg>\n",
              "      </button>\n",
              "      \n",
              "  <style>\n",
              "    .colab-df-container {\n",
              "      display:flex;\n",
              "      flex-wrap:wrap;\n",
              "      gap: 12px;\n",
              "    }\n",
              "\n",
              "    .colab-df-convert {\n",
              "      background-color: #E8F0FE;\n",
              "      border: none;\n",
              "      border-radius: 50%;\n",
              "      cursor: pointer;\n",
              "      display: none;\n",
              "      fill: #1967D2;\n",
              "      height: 32px;\n",
              "      padding: 0 0 0 0;\n",
              "      width: 32px;\n",
              "    }\n",
              "\n",
              "    .colab-df-convert:hover {\n",
              "      background-color: #E2EBFA;\n",
              "      box-shadow: 0px 1px 2px rgba(60, 64, 67, 0.3), 0px 1px 3px 1px rgba(60, 64, 67, 0.15);\n",
              "      fill: #174EA6;\n",
              "    }\n",
              "\n",
              "    [theme=dark] .colab-df-convert {\n",
              "      background-color: #3B4455;\n",
              "      fill: #D2E3FC;\n",
              "    }\n",
              "\n",
              "    [theme=dark] .colab-df-convert:hover {\n",
              "      background-color: #434B5C;\n",
              "      box-shadow: 0px 1px 3px 1px rgba(0, 0, 0, 0.15);\n",
              "      filter: drop-shadow(0px 1px 2px rgba(0, 0, 0, 0.3));\n",
              "      fill: #FFFFFF;\n",
              "    }\n",
              "  </style>\n",
              "\n",
              "      <script>\n",
              "        const buttonEl =\n",
              "          document.querySelector('#df-066d7a36-083d-4719-a8bd-35b62e95eeb7 button.colab-df-convert');\n",
              "        buttonEl.style.display =\n",
              "          google.colab.kernel.accessAllowed ? 'block' : 'none';\n",
              "\n",
              "        async function convertToInteractive(key) {\n",
              "          const element = document.querySelector('#df-066d7a36-083d-4719-a8bd-35b62e95eeb7');\n",
              "          const dataTable =\n",
              "            await google.colab.kernel.invokeFunction('convertToInteractive',\n",
              "                                                     [key], {});\n",
              "          if (!dataTable) return;\n",
              "\n",
              "          const docLinkHtml = 'Like what you see? Visit the ' +\n",
              "            '<a target=\"_blank\" href=https://colab.research.google.com/notebooks/data_table.ipynb>data table notebook</a>'\n",
              "            + ' to learn more about interactive tables.';\n",
              "          element.innerHTML = '';\n",
              "          dataTable['output_type'] = 'display_data';\n",
              "          await google.colab.output.renderOutput(dataTable, element);\n",
              "          const docLink = document.createElement('div');\n",
              "          docLink.innerHTML = docLinkHtml;\n",
              "          element.appendChild(docLink);\n",
              "        }\n",
              "      </script>\n",
              "    </div>\n",
              "  </div>\n",
              "  "
            ]
          },
          "metadata": {},
          "execution_count": 140
        }
      ]
    },
    {
      "cell_type": "code",
      "source": [
        "result_df = result_df.sort_values(by='Test Accuracy',ascending=False)\n",
        "result_df"
      ],
      "metadata": {
        "colab": {
          "base_uri": "https://localhost:8080/",
          "height": 206
        },
        "id": "6z1HDD0XGR1Y",
        "outputId": "363300c6-359a-4034-a950-e7df006e306e"
      },
      "execution_count": 141,
      "outputs": [
        {
          "output_type": "execute_result",
          "data": {
            "text/plain": [
              "                Models  Training Accuracy  Test Accuracy  Precision Score  \\\n",
              "4                  XGB             0.8665         0.8400           0.7651   \n",
              "2        Random Forest             0.8162         0.8078           0.7331   \n",
              "1        Decision Tree             0.8108         0.8005           0.7333   \n",
              "3    Gradient Boosting             0.7945         0.7933           0.7290   \n",
              "0  Logistic Regression             0.6744         0.6771           0.6705   \n",
              "\n",
              "   Recall Score  \n",
              "4        0.9624  \n",
              "2        0.9462  \n",
              "1        0.9219  \n",
              "3        0.9099  \n",
              "0        0.6495  "
            ],
            "text/html": [
              "\n",
              "  <div id=\"df-1a0aff8c-bd8c-411b-81b8-ea6d3ab0000a\">\n",
              "    <div class=\"colab-df-container\">\n",
              "      <div>\n",
              "<style scoped>\n",
              "    .dataframe tbody tr th:only-of-type {\n",
              "        vertical-align: middle;\n",
              "    }\n",
              "\n",
              "    .dataframe tbody tr th {\n",
              "        vertical-align: top;\n",
              "    }\n",
              "\n",
              "    .dataframe thead th {\n",
              "        text-align: right;\n",
              "    }\n",
              "</style>\n",
              "<table border=\"1\" class=\"dataframe\">\n",
              "  <thead>\n",
              "    <tr style=\"text-align: right;\">\n",
              "      <th></th>\n",
              "      <th>Models</th>\n",
              "      <th>Training Accuracy</th>\n",
              "      <th>Test Accuracy</th>\n",
              "      <th>Precision Score</th>\n",
              "      <th>Recall Score</th>\n",
              "    </tr>\n",
              "  </thead>\n",
              "  <tbody>\n",
              "    <tr>\n",
              "      <th>4</th>\n",
              "      <td>XGB</td>\n",
              "      <td>0.8665</td>\n",
              "      <td>0.8400</td>\n",
              "      <td>0.7651</td>\n",
              "      <td>0.9624</td>\n",
              "    </tr>\n",
              "    <tr>\n",
              "      <th>2</th>\n",
              "      <td>Random Forest</td>\n",
              "      <td>0.8162</td>\n",
              "      <td>0.8078</td>\n",
              "      <td>0.7331</td>\n",
              "      <td>0.9462</td>\n",
              "    </tr>\n",
              "    <tr>\n",
              "      <th>1</th>\n",
              "      <td>Decision Tree</td>\n",
              "      <td>0.8108</td>\n",
              "      <td>0.8005</td>\n",
              "      <td>0.7333</td>\n",
              "      <td>0.9219</td>\n",
              "    </tr>\n",
              "    <tr>\n",
              "      <th>3</th>\n",
              "      <td>Gradient Boosting</td>\n",
              "      <td>0.7945</td>\n",
              "      <td>0.7933</td>\n",
              "      <td>0.7290</td>\n",
              "      <td>0.9099</td>\n",
              "    </tr>\n",
              "    <tr>\n",
              "      <th>0</th>\n",
              "      <td>Logistic Regression</td>\n",
              "      <td>0.6744</td>\n",
              "      <td>0.6771</td>\n",
              "      <td>0.6705</td>\n",
              "      <td>0.6495</td>\n",
              "    </tr>\n",
              "  </tbody>\n",
              "</table>\n",
              "</div>\n",
              "      <button class=\"colab-df-convert\" onclick=\"convertToInteractive('df-1a0aff8c-bd8c-411b-81b8-ea6d3ab0000a')\"\n",
              "              title=\"Convert this dataframe to an interactive table.\"\n",
              "              style=\"display:none;\">\n",
              "        \n",
              "  <svg xmlns=\"http://www.w3.org/2000/svg\" height=\"24px\"viewBox=\"0 0 24 24\"\n",
              "       width=\"24px\">\n",
              "    <path d=\"M0 0h24v24H0V0z\" fill=\"none\"/>\n",
              "    <path d=\"M18.56 5.44l.94 2.06.94-2.06 2.06-.94-2.06-.94-.94-2.06-.94 2.06-2.06.94zm-11 1L8.5 8.5l.94-2.06 2.06-.94-2.06-.94L8.5 2.5l-.94 2.06-2.06.94zm10 10l.94 2.06.94-2.06 2.06-.94-2.06-.94-.94-2.06-.94 2.06-2.06.94z\"/><path d=\"M17.41 7.96l-1.37-1.37c-.4-.4-.92-.59-1.43-.59-.52 0-1.04.2-1.43.59L10.3 9.45l-7.72 7.72c-.78.78-.78 2.05 0 2.83L4 21.41c.39.39.9.59 1.41.59.51 0 1.02-.2 1.41-.59l7.78-7.78 2.81-2.81c.8-.78.8-2.07 0-2.86zM5.41 20L4 18.59l7.72-7.72 1.47 1.35L5.41 20z\"/>\n",
              "  </svg>\n",
              "      </button>\n",
              "      \n",
              "  <style>\n",
              "    .colab-df-container {\n",
              "      display:flex;\n",
              "      flex-wrap:wrap;\n",
              "      gap: 12px;\n",
              "    }\n",
              "\n",
              "    .colab-df-convert {\n",
              "      background-color: #E8F0FE;\n",
              "      border: none;\n",
              "      border-radius: 50%;\n",
              "      cursor: pointer;\n",
              "      display: none;\n",
              "      fill: #1967D2;\n",
              "      height: 32px;\n",
              "      padding: 0 0 0 0;\n",
              "      width: 32px;\n",
              "    }\n",
              "\n",
              "    .colab-df-convert:hover {\n",
              "      background-color: #E2EBFA;\n",
              "      box-shadow: 0px 1px 2px rgba(60, 64, 67, 0.3), 0px 1px 3px 1px rgba(60, 64, 67, 0.15);\n",
              "      fill: #174EA6;\n",
              "    }\n",
              "\n",
              "    [theme=dark] .colab-df-convert {\n",
              "      background-color: #3B4455;\n",
              "      fill: #D2E3FC;\n",
              "    }\n",
              "\n",
              "    [theme=dark] .colab-df-convert:hover {\n",
              "      background-color: #434B5C;\n",
              "      box-shadow: 0px 1px 3px 1px rgba(0, 0, 0, 0.15);\n",
              "      filter: drop-shadow(0px 1px 2px rgba(0, 0, 0, 0.3));\n",
              "      fill: #FFFFFF;\n",
              "    }\n",
              "  </style>\n",
              "\n",
              "      <script>\n",
              "        const buttonEl =\n",
              "          document.querySelector('#df-1a0aff8c-bd8c-411b-81b8-ea6d3ab0000a button.colab-df-convert');\n",
              "        buttonEl.style.display =\n",
              "          google.colab.kernel.accessAllowed ? 'block' : 'none';\n",
              "\n",
              "        async function convertToInteractive(key) {\n",
              "          const element = document.querySelector('#df-1a0aff8c-bd8c-411b-81b8-ea6d3ab0000a');\n",
              "          const dataTable =\n",
              "            await google.colab.kernel.invokeFunction('convertToInteractive',\n",
              "                                                     [key], {});\n",
              "          if (!dataTable) return;\n",
              "\n",
              "          const docLinkHtml = 'Like what you see? Visit the ' +\n",
              "            '<a target=\"_blank\" href=https://colab.research.google.com/notebooks/data_table.ipynb>data table notebook</a>'\n",
              "            + ' to learn more about interactive tables.';\n",
              "          element.innerHTML = '';\n",
              "          dataTable['output_type'] = 'display_data';\n",
              "          await google.colab.output.renderOutput(dataTable, element);\n",
              "          const docLink = document.createElement('div');\n",
              "          docLink.innerHTML = docLinkHtml;\n",
              "          element.appendChild(docLink);\n",
              "        }\n",
              "      </script>\n",
              "    </div>\n",
              "  </div>\n",
              "  "
            ]
          },
          "metadata": {},
          "execution_count": 141
        }
      ]
    },
    {
      "cell_type": "code",
      "source": [],
      "metadata": {
        "id": "bfpnRaQjnHM2"
      },
      "execution_count": 139,
      "outputs": []
    }
  ],
  "metadata": {
    "colab": {
      "toc_visible": true,
      "provenance": [],
      "authorship_tag": "ABX9TyNWEEOJQTVZEd9vYwP6gpSj",
      "include_colab_link": true
    },
    "kernelspec": {
      "display_name": "Python 3",
      "name": "python3"
    },
    "language_info": {
      "name": "python"
    }
  },
  "nbformat": 4,
  "nbformat_minor": 0
}